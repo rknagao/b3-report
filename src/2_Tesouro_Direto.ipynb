{
 "cells": [
  {
   "cell_type": "code",
   "execution_count": 1,
   "metadata": {},
   "outputs": [],
   "source": [
    "import altair as alt\n",
    "import datetime\n",
    "import dateutil\n",
    "import json\n",
    "import pandas as pd\n",
    "import os\n",
    "import streamlit as st\n",
    "import local_lib as lib\n",
    "import yfinance as yf"
   ]
  },
  {
   "cell_type": "code",
   "execution_count": 2,
   "metadata": {},
   "outputs": [],
   "source": [
    "#DF = st.session_state['tesouro']\n",
    "df_tesouro = pd.read_csv('../data_pos_importacao.csv')\n",
    "df_tesouro['data'] = pd.to_datetime(df_tesouro['data'], format='%Y-%m-%d')\n",
    "\n",
    "df_historico = lib.etl_tesouro_historic_price()\n",
    "#df_tesouro_historico = lib.processing_tesouro(df_historico, df_tesouro)"
   ]
  },
  {
   "cell_type": "code",
   "execution_count": 4,
   "metadata": {},
   "outputs": [
    {
     "data": {
      "text/html": [
       "<div>\n",
       "<style scoped>\n",
       "    .dataframe tbody tr th:only-of-type {\n",
       "        vertical-align: middle;\n",
       "    }\n",
       "\n",
       "    .dataframe tbody tr th {\n",
       "        vertical-align: top;\n",
       "    }\n",
       "\n",
       "    .dataframe thead th {\n",
       "        text-align: right;\n",
       "    }\n",
       "</style>\n",
       "<table border=\"1\" class=\"dataframe\">\n",
       "  <thead>\n",
       "    <tr style=\"text-align: right;\">\n",
       "      <th></th>\n",
       "      <th>tp_ativo</th>\n",
       "      <th>ticker</th>\n",
       "      <th>data</th>\n",
       "      <th>qt</th>\n",
       "      <th>vl_total</th>\n",
       "      <th>preco</th>\n",
       "    </tr>\n",
       "  </thead>\n",
       "  <tbody>\n",
       "    <tr>\n",
       "      <th>0</th>\n",
       "      <td>Tipo 1: tesouro</td>\n",
       "      <td>Tesouro IPCA+ 2035</td>\n",
       "      <td>2021-06-30</td>\n",
       "      <td>1.70</td>\n",
       "      <td>3476.79</td>\n",
       "      <td>2045.17</td>\n",
       "    </tr>\n",
       "    <tr>\n",
       "      <th>1</th>\n",
       "      <td>Tipo 1: tesouro</td>\n",
       "      <td>Tesouro IPCA+ 2035</td>\n",
       "      <td>2022-07-01</td>\n",
       "      <td>0.00</td>\n",
       "      <td>-3.14</td>\n",
       "      <td>0.00</td>\n",
       "    </tr>\n",
       "    <tr>\n",
       "      <th>2</th>\n",
       "      <td>Tipo 1: tesouro</td>\n",
       "      <td>Tesouro IPCA+ 2045</td>\n",
       "      <td>2021-11-04</td>\n",
       "      <td>3.30</td>\n",
       "      <td>3530.80</td>\n",
       "      <td>1069.94</td>\n",
       "    </tr>\n",
       "    <tr>\n",
       "      <th>3</th>\n",
       "      <td>Tipo 1: tesouro</td>\n",
       "      <td>Tesouro IPCA+ 2045</td>\n",
       "      <td>2022-07-01</td>\n",
       "      <td>0.00</td>\n",
       "      <td>-3.48</td>\n",
       "      <td>0.00</td>\n",
       "    </tr>\n",
       "    <tr>\n",
       "      <th>4</th>\n",
       "      <td>Tipo 1: tesouro</td>\n",
       "      <td>Tesouro Prefixado 2023</td>\n",
       "      <td>2020-07-10</td>\n",
       "      <td>1.63</td>\n",
       "      <td>1472.00</td>\n",
       "      <td>903.07</td>\n",
       "    </tr>\n",
       "  </tbody>\n",
       "</table>\n",
       "</div>"
      ],
      "text/plain": [
       "          tp_ativo                  ticker       data    qt  vl_total    preco\n",
       "0  Tipo 1: tesouro      Tesouro IPCA+ 2035 2021-06-30  1.70   3476.79  2045.17\n",
       "1  Tipo 1: tesouro      Tesouro IPCA+ 2035 2022-07-01  0.00     -3.14     0.00\n",
       "2  Tipo 1: tesouro      Tesouro IPCA+ 2045 2021-11-04  3.30   3530.80  1069.94\n",
       "3  Tipo 1: tesouro      Tesouro IPCA+ 2045 2022-07-01  0.00     -3.48     0.00\n",
       "4  Tipo 1: tesouro  Tesouro Prefixado 2023 2020-07-10  1.63   1472.00   903.07"
      ]
     },
     "execution_count": 4,
     "metadata": {},
     "output_type": "execute_result"
    }
   ],
   "source": [
    "#df_historico.head()\n",
    "df_tesouro.head()\n",
    "#lib.merge_historic_data(df_historico, df_tesouro)"
   ]
  }
 ],
 "metadata": {
  "kernelspec": {
   "display_name": "Python 3",
   "language": "python",
   "name": "python3"
  },
  "language_info": {
   "codemirror_mode": {
    "name": "ipython",
    "version": 3
   },
   "file_extension": ".py",
   "mimetype": "text/x-python",
   "name": "python",
   "nbconvert_exporter": "python",
   "pygments_lexer": "ipython3",
   "version": "3.10.4"
  },
  "orig_nbformat": 4,
  "vscode": {
   "interpreter": {
    "hash": "7d7662bde5678ddf41fb482e2cda39dd85fc62406be2c88b1ebdc7b78e575873"
   }
  }
 },
 "nbformat": 4,
 "nbformat_minor": 2
}

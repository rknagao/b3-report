{
 "cells": [
  {
   "cell_type": "markdown",
   "metadata": {},
   "source": [
    "# Notebook para manutenção do código"
   ]
  },
  {
   "cell_type": "markdown",
   "metadata": {},
   "source": [
    "## Home"
   ]
  },
  {
   "cell_type": "code",
   "execution_count": 1,
   "metadata": {},
   "outputs": [],
   "source": [
    "import logging\n",
    "import numpy as np\n",
    "import pandas as pd\n",
    "from PIL import Image\n",
    "import streamlit as st"
   ]
  },
  {
   "cell_type": "code",
   "execution_count": 2,
   "metadata": {},
   "outputs": [],
   "source": [
    "# Extra script\n",
    "uploaded_files = [\n",
    "    '../data/kenji/movimentacao-2019.xlsx',\n",
    "    '../data/kenji/movimentacao-2020.xlsx',\n",
    "    '../data/kenji/movimentacao-2021.xlsx',\n",
    "    '../data/kenji/movimentacao-2022.xlsx',\n",
    "]"
   ]
  },
  {
   "cell_type": "code",
   "execution_count": 3,
   "metadata": {},
   "outputs": [
    {
     "name": "stderr",
     "output_type": "stream",
     "text": [
      "c:\\Users\\Kenji\\AppData\\Local\\Programs\\Python\\Python310\\lib\\site-packages\\openpyxl\\styles\\stylesheet.py:226: UserWarning: Workbook contains no default style, apply openpyxl's default\n",
      "  warn(\"Workbook contains no default style, apply openpyxl's default\")\n",
      "c:\\Users\\Kenji\\AppData\\Local\\Programs\\Python\\Python310\\lib\\site-packages\\openpyxl\\styles\\stylesheet.py:226: UserWarning: Workbook contains no default style, apply openpyxl's default\n",
      "  warn(\"Workbook contains no default style, apply openpyxl's default\")\n",
      "c:\\Users\\Kenji\\AppData\\Local\\Programs\\Python\\Python310\\lib\\site-packages\\openpyxl\\styles\\stylesheet.py:226: UserWarning: Workbook contains no default style, apply openpyxl's default\n",
      "  warn(\"Workbook contains no default style, apply openpyxl's default\")\n"
     ]
    },
    {
     "data": {
      "text/html": [
       "<div>\n",
       "<style scoped>\n",
       "    .dataframe tbody tr th:only-of-type {\n",
       "        vertical-align: middle;\n",
       "    }\n",
       "\n",
       "    .dataframe tbody tr th {\n",
       "        vertical-align: top;\n",
       "    }\n",
       "\n",
       "    .dataframe thead th {\n",
       "        text-align: right;\n",
       "    }\n",
       "</style>\n",
       "<table border=\"1\" class=\"dataframe\">\n",
       "  <thead>\n",
       "    <tr style=\"text-align: right;\">\n",
       "      <th></th>\n",
       "      <th>Entrada/Saída</th>\n",
       "      <th>Data</th>\n",
       "      <th>Movimentação</th>\n",
       "      <th>Produto</th>\n",
       "      <th>Instituição</th>\n",
       "      <th>Quantidade</th>\n",
       "      <th>Preço unitário</th>\n",
       "      <th>Valor da Operação</th>\n",
       "    </tr>\n",
       "  </thead>\n",
       "  <tbody>\n",
       "    <tr>\n",
       "      <th>0</th>\n",
       "      <td>Credito</td>\n",
       "      <td>17/12/2019</td>\n",
       "      <td>Transferência - Liquidação</td>\n",
       "      <td>CEBR3 - CIA ENERGETICA DE BRASILIA</td>\n",
       "      <td>MODAL DTVM LTDA</td>\n",
       "      <td>100.0</td>\n",
       "      <td>53.69</td>\n",
       "      <td>5369.0</td>\n",
       "    </tr>\n",
       "    <tr>\n",
       "      <th>1</th>\n",
       "      <td>Credito</td>\n",
       "      <td>17/12/2019</td>\n",
       "      <td>Transferência - Liquidação</td>\n",
       "      <td>ITSA4 - ITAUSA S/A</td>\n",
       "      <td>MODAL DTVM LTDA</td>\n",
       "      <td>100.0</td>\n",
       "      <td>13.6</td>\n",
       "      <td>1360.0</td>\n",
       "    </tr>\n",
       "  </tbody>\n",
       "</table>\n",
       "</div>"
      ],
      "text/plain": [
       "  Entrada/Saída        Data                Movimentação  \\\n",
       "0       Credito  17/12/2019  Transferência - Liquidação   \n",
       "1       Credito  17/12/2019  Transferência - Liquidação   \n",
       "\n",
       "                              Produto      Instituição  Quantidade  \\\n",
       "0  CEBR3 - CIA ENERGETICA DE BRASILIA  MODAL DTVM LTDA       100.0   \n",
       "1                  ITSA4 - ITAUSA S/A  MODAL DTVM LTDA       100.0   \n",
       "\n",
       "  Preço unitário Valor da Operação  \n",
       "0          53.69            5369.0  \n",
       "1           13.6            1360.0  "
      ]
     },
     "execution_count": 3,
     "metadata": {},
     "output_type": "execute_result"
    }
   ],
   "source": [
    "def data_ingestion(uploaded_files):\n",
    "    df = pd.DataFrame()\n",
    "    for i in uploaded_files:\n",
    "        df_temp = pd.read_excel(i, engine='openpyxl')\n",
    "        df = pd.concat([df, df_temp], axis=0, ignore_index=True)\n",
    "    \n",
    "    df.drop_duplicates(keep='last', inplace=True)        \n",
    "    return df\n",
    "    \n",
    "# Teste\n",
    "df_data_ingestion = data_ingestion(uploaded_files)\n",
    "df_data_ingestion.head(2)"
   ]
  },
  {
   "cell_type": "code",
   "execution_count": 4,
   "metadata": {},
   "outputs": [
    {
     "data": {
      "text/html": [
       "<div>\n",
       "<style scoped>\n",
       "    .dataframe tbody tr th:only-of-type {\n",
       "        vertical-align: middle;\n",
       "    }\n",
       "\n",
       "    .dataframe tbody tr th {\n",
       "        vertical-align: top;\n",
       "    }\n",
       "\n",
       "    .dataframe thead th {\n",
       "        text-align: right;\n",
       "    }\n",
       "</style>\n",
       "<table border=\"1\" class=\"dataframe\">\n",
       "  <thead>\n",
       "    <tr style=\"text-align: right;\">\n",
       "      <th></th>\n",
       "      <th>credito_ou_debito</th>\n",
       "      <th>data</th>\n",
       "      <th>tp_movimento</th>\n",
       "      <th>ativo</th>\n",
       "      <th>instituicao</th>\n",
       "      <th>qt_abs</th>\n",
       "      <th>preco_mov</th>\n",
       "      <th>vl_total_abs</th>\n",
       "      <th>tp_ativo</th>\n",
       "      <th>ticker</th>\n",
       "      <th>qt</th>\n",
       "      <th>vl_total</th>\n",
       "      <th>evento</th>\n",
       "    </tr>\n",
       "  </thead>\n",
       "  <tbody>\n",
       "    <tr>\n",
       "      <th>0</th>\n",
       "      <td>Credito</td>\n",
       "      <td>2019-12-17</td>\n",
       "      <td>Transferência - Liquidação</td>\n",
       "      <td>CEBR3 - CIA ENERGETICA DE BRASILIA</td>\n",
       "      <td>MODAL DTVM LTDA</td>\n",
       "      <td>100.0</td>\n",
       "      <td>53.69</td>\n",
       "      <td>5369.0</td>\n",
       "      <td>Tipo 2: ações</td>\n",
       "      <td>CEBR3</td>\n",
       "      <td>100.0</td>\n",
       "      <td>5369.0</td>\n",
       "      <td>compra_ou_venda</td>\n",
       "    </tr>\n",
       "    <tr>\n",
       "      <th>1</th>\n",
       "      <td>Credito</td>\n",
       "      <td>2019-12-17</td>\n",
       "      <td>Transferência - Liquidação</td>\n",
       "      <td>ITSA4 - ITAUSA S/A</td>\n",
       "      <td>MODAL DTVM LTDA</td>\n",
       "      <td>100.0</td>\n",
       "      <td>13.60</td>\n",
       "      <td>1360.0</td>\n",
       "      <td>Tipo 2: ações</td>\n",
       "      <td>ITSA4</td>\n",
       "      <td>100.0</td>\n",
       "      <td>1360.0</td>\n",
       "      <td>compra_ou_venda</td>\n",
       "    </tr>\n",
       "  </tbody>\n",
       "</table>\n",
       "</div>"
      ],
      "text/plain": [
       "  credito_ou_debito       data                tp_movimento  \\\n",
       "0           Credito 2019-12-17  Transferência - Liquidação   \n",
       "1           Credito 2019-12-17  Transferência - Liquidação   \n",
       "\n",
       "                                ativo      instituicao  qt_abs  preco_mov  \\\n",
       "0  CEBR3 - CIA ENERGETICA DE BRASILIA  MODAL DTVM LTDA   100.0      53.69   \n",
       "1                  ITSA4 - ITAUSA S/A  MODAL DTVM LTDA   100.0      13.60   \n",
       "\n",
       "   vl_total_abs       tp_ativo ticker     qt  vl_total           evento  \n",
       "0        5369.0  Tipo 2: ações  CEBR3  100.0    5369.0  compra_ou_venda  \n",
       "1        1360.0  Tipo 2: ações  ITSA4  100.0    1360.0  compra_ou_venda  "
      ]
     },
     "execution_count": 4,
     "metadata": {},
     "output_type": "execute_result"
    }
   ],
   "source": [
    "def data_treatment(df):\n",
    "    # Datatype\n",
    "    dict_dtype = {'credito_ou_debito': str,\n",
    "                  'data': str,\n",
    "                  'tp_movimento': str,\n",
    "                  'ativo': str,\n",
    "                  'instituicao': str,\n",
    "                  'qt_abs': float,\n",
    "                  'preco_mov': float,\n",
    "                  'vl_total_abs': float}\n",
    "    \n",
    "    df.columns = list(dict_dtype.keys())\n",
    "    df['preco_mov'].replace('-', 0, inplace=True)\n",
    "    df['vl_total_abs'].replace('-', 0, inplace=True)\n",
    "    df = df.astype(dict_dtype)\n",
    "    df['data'] = pd.to_datetime(df['data'], format='%d/%m/%Y')\n",
    "\n",
    "    # (geral) Nova variável: classificação do ativo.\n",
    "    df['tp_ativo'] = np.select(\n",
    "        [\n",
    "            (df['ativo'].str.upper()).str.contains('TESOURO'),\n",
    "            df['ativo'].str.split(' - ', 0).str[0].str.len() == 5,\n",
    "            df['ativo'].str.split(' - ', 0).str[0].str.len() == 6,\n",
    "            df['ativo'].str.contains('DEB'),\n",
    "            df['ativo'].str.contains('|'.join(['CDB', 'RDB', 'LCA', 'LCI']))\n",
    "        ],\n",
    "        [\n",
    "            'Tipo 1: tesouro',\n",
    "            'Tipo 2: ações',\n",
    "            'Tipo 3: BDR',\n",
    "            'Tipo 4: debêntures',\n",
    "            'Tipo 5: renda fixa privada'\n",
    "        ],'?'\n",
    "    )\n",
    "\n",
    "    # (geral) Nova variável: ticker.\n",
    "    df['ticker'] = np.select(\n",
    "        [\n",
    "            df['tp_ativo'] == 'Tipo 4: debêntures',\n",
    "            df['tp_ativo'] == 'Tipo 5: renda fixa privada'\n",
    "        ],\n",
    "        [   \n",
    "            df['ativo'].str[5:12],\n",
    "            df['ativo'].str[5:17]\n",
    "        ], df['ativo'].str.split(' - ').str[0]\n",
    "    )\n",
    "\n",
    "    # (bolsa) Ajuste específico de ações: zerar a quantidade de compra/venda em caso de dividendos e juros sobre capital próprio.\n",
    "    condition = ~df['tp_movimento'].isin(['Transferência - Liquidação', 'Bonificação em Ativos', 'Desdobro']) & \\\n",
    "                df['tp_ativo'].isin(['Tipo 2: ações', 'Tipo 3: BDR'])\n",
    "    df['qt_abs'] = np.where(condition, 0, df['qt_abs'])\n",
    "\n",
    "    # (geral) Nova variável: variação na quantidade de ativos.\n",
    "    df['qt'] = df['qt_abs'] * np.where(df['credito_ou_debito'] == 'Credito', 1, -1)\n",
    "\n",
    "    # (geral) Nova variável: variação na quantidade no valor total.\n",
    "    df['vl_total'] = df['vl_total_abs'] * np.where(df['credito_ou_debito'] == 'Credito', 1, -1)\n",
    "\n",
    "    # (bolsa) Nova variável: flag se a negociação é um provento (dividendo, juros sobre capital próprio ou leilão)\n",
    "    df['evento'] = np.select(\n",
    "        [\n",
    "            df['tp_movimento'].isin(['Dividendo', 'Juros Sobre Capital Próprio', 'Fração em Ativos', 'Leilão de Fração']),\n",
    "            df['tp_movimento'].isin(['Bonificação em Ativos']),\n",
    "            df['tp_movimento'].isin(['Desdobro', 'Grupamento', ]),\n",
    "            df['tp_movimento'].isin(['Transferência - Liquidação', 'Compra', 'Venda', 'COMPRA / VENDA', 'COMPRA/VENDA DEFINITIVA/CESSAO']),\n",
    "            df['tp_movimento'].isin(['Cobrança de Taxa Semestral', 'Atualização'])\n",
    "        ],\n",
    "        [\n",
    "            'dividendo_ou_jcp',\n",
    "            'bonificacao',\n",
    "            'split',\n",
    "            'compra_ou_venda',\n",
    "            'outros'\n",
    "        ],\n",
    "        '?')\n",
    "    return df\n",
    "\n",
    "# Teste\n",
    "df_data_treatment = data_treatment(df_data_ingestion)\n",
    "df_data_treatment.head(2)"
   ]
  },
  {
   "cell_type": "code",
   "execution_count": 5,
   "metadata": {},
   "outputs": [
    {
     "data": {
      "text/html": [
       "<div>\n",
       "<style scoped>\n",
       "    .dataframe tbody tr th:only-of-type {\n",
       "        vertical-align: middle;\n",
       "    }\n",
       "\n",
       "    .dataframe tbody tr th {\n",
       "        vertical-align: top;\n",
       "    }\n",
       "\n",
       "    .dataframe thead th {\n",
       "        text-align: right;\n",
       "    }\n",
       "</style>\n",
       "<table border=\"1\" class=\"dataframe\">\n",
       "  <thead>\n",
       "    <tr style=\"text-align: right;\">\n",
       "      <th></th>\n",
       "      <th>credito_ou_debito</th>\n",
       "      <th>data</th>\n",
       "      <th>tp_movimento</th>\n",
       "      <th>ativo</th>\n",
       "      <th>instituicao</th>\n",
       "      <th>qt_abs</th>\n",
       "      <th>preco_mov</th>\n",
       "      <th>vl_total_abs</th>\n",
       "      <th>tp_ativo</th>\n",
       "      <th>ticker</th>\n",
       "      <th>qt</th>\n",
       "      <th>vl_total</th>\n",
       "      <th>evento</th>\n",
       "    </tr>\n",
       "  </thead>\n",
       "  <tbody>\n",
       "    <tr>\n",
       "      <th>17</th>\n",
       "      <td>Debito</td>\n",
       "      <td>2019-11-08</td>\n",
       "      <td>Transferência - Liquidação</td>\n",
       "      <td>BPAN4 - BANCO PAN S/A</td>\n",
       "      <td>MODAL DTVM LTDA</td>\n",
       "      <td>600.0</td>\n",
       "      <td>9.33</td>\n",
       "      <td>5598.0</td>\n",
       "      <td>Tipo 2: ações</td>\n",
       "      <td>BPAN4</td>\n",
       "      <td>-600.0</td>\n",
       "      <td>-5598.0</td>\n",
       "      <td>compra_ou_venda</td>\n",
       "    </tr>\n",
       "    <tr>\n",
       "      <th>20</th>\n",
       "      <td>Credito</td>\n",
       "      <td>2019-11-05</td>\n",
       "      <td>Transferência - Liquidação</td>\n",
       "      <td>BPAN4 - BANCO PAN S/A</td>\n",
       "      <td>MODAL DTVM LTDA</td>\n",
       "      <td>600.0</td>\n",
       "      <td>9.17</td>\n",
       "      <td>5502.0</td>\n",
       "      <td>Tipo 2: ações</td>\n",
       "      <td>BPAN4</td>\n",
       "      <td>600.0</td>\n",
       "      <td>5502.0</td>\n",
       "      <td>compra_ou_venda</td>\n",
       "    </tr>\n",
       "  </tbody>\n",
       "</table>\n",
       "</div>"
      ],
      "text/plain": [
       "   credito_ou_debito       data                tp_movimento  \\\n",
       "17            Debito 2019-11-08  Transferência - Liquidação   \n",
       "20           Credito 2019-11-05  Transferência - Liquidação   \n",
       "\n",
       "                    ativo      instituicao  qt_abs  preco_mov  vl_total_abs  \\\n",
       "17  BPAN4 - BANCO PAN S/A  MODAL DTVM LTDA   600.0       9.33        5598.0   \n",
       "20  BPAN4 - BANCO PAN S/A  MODAL DTVM LTDA   600.0       9.17        5502.0   \n",
       "\n",
       "         tp_ativo ticker     qt  vl_total           evento  \n",
       "17  Tipo 2: ações  BPAN4 -600.0   -5598.0  compra_ou_venda  \n",
       "20  Tipo 2: ações  BPAN4  600.0    5502.0  compra_ou_venda  "
      ]
     },
     "execution_count": 5,
     "metadata": {},
     "output_type": "execute_result"
    }
   ],
   "source": [
    "a = df_data_treatment\n",
    "a.loc[a['ticker'] == 'BPAN4']"
   ]
  },
  {
   "cell_type": "code",
   "execution_count": 6,
   "metadata": {},
   "outputs": [
    {
     "data": {
      "text/html": [
       "<div>\n",
       "<style scoped>\n",
       "    .dataframe tbody tr th:only-of-type {\n",
       "        vertical-align: middle;\n",
       "    }\n",
       "\n",
       "    .dataframe tbody tr th {\n",
       "        vertical-align: top;\n",
       "    }\n",
       "\n",
       "    .dataframe thead th {\n",
       "        text-align: right;\n",
       "    }\n",
       "</style>\n",
       "<table border=\"1\" class=\"dataframe\">\n",
       "  <thead>\n",
       "    <tr style=\"text-align: right;\">\n",
       "      <th></th>\n",
       "      <th>data</th>\n",
       "      <th>ticker</th>\n",
       "      <th>qt</th>\n",
       "      <th>preco_mov</th>\n",
       "      <th>vl_total</th>\n",
       "    </tr>\n",
       "  </thead>\n",
       "  <tbody>\n",
       "    <tr>\n",
       "      <th>0</th>\n",
       "      <td>2021-06-30</td>\n",
       "      <td>Tesouro IPCA+ 2035</td>\n",
       "      <td>1.7</td>\n",
       "      <td>2045.17</td>\n",
       "      <td>3476.79</td>\n",
       "    </tr>\n",
       "    <tr>\n",
       "      <th>1</th>\n",
       "      <td>2022-07-01</td>\n",
       "      <td>Tesouro IPCA+ 2035</td>\n",
       "      <td>0.0</td>\n",
       "      <td>0.00</td>\n",
       "      <td>-3.14</td>\n",
       "    </tr>\n",
       "  </tbody>\n",
       "</table>\n",
       "</div>"
      ],
      "text/plain": [
       "        data              ticker   qt  preco_mov  vl_total\n",
       "0 2021-06-30  Tesouro IPCA+ 2035  1.7    2045.17   3476.79\n",
       "1 2022-07-01  Tesouro IPCA+ 2035  0.0       0.00     -3.14"
      ]
     },
     "execution_count": 6,
     "metadata": {},
     "output_type": "execute_result"
    }
   ],
   "source": [
    "def only_tesouro(df):\n",
    "    df = df.loc[df['tp_ativo'] == 'Tipo 1: tesouro'].sort_values(by=['ticker','data'], ascending=True)\n",
    "    df = df.groupby(['tp_ativo','ticker','data']).agg({'qt':'sum', 'vl_total':'sum'}).reset_index()\n",
    "    df['preco_mov'] = np.where(df['qt'] != 0, round(df['vl_total'] / df['qt'], 2), 0)\n",
    "    df = df[['data', 'ticker', 'qt', 'preco_mov', 'vl_total']]\n",
    "    return df\n",
    "\n",
    "# Teste\n",
    "df_tesouro = only_tesouro(df_data_treatment)\n",
    "df_tesouro.head(2)"
   ]
  },
  {
   "cell_type": "code",
   "execution_count": 7,
   "metadata": {},
   "outputs": [
    {
     "data": {
      "text/html": [
       "<div>\n",
       "<style scoped>\n",
       "    .dataframe tbody tr th:only-of-type {\n",
       "        vertical-align: middle;\n",
       "    }\n",
       "\n",
       "    .dataframe tbody tr th {\n",
       "        vertical-align: top;\n",
       "    }\n",
       "\n",
       "    .dataframe thead th {\n",
       "        text-align: right;\n",
       "    }\n",
       "</style>\n",
       "<table border=\"1\" class=\"dataframe\">\n",
       "  <thead>\n",
       "    <tr style=\"text-align: right;\">\n",
       "      <th></th>\n",
       "      <th>data</th>\n",
       "      <th>ticker</th>\n",
       "      <th>evento</th>\n",
       "      <th>qt</th>\n",
       "      <th>vl_total</th>\n",
       "    </tr>\n",
       "  </thead>\n",
       "  <tbody>\n",
       "    <tr>\n",
       "      <th>0</th>\n",
       "      <td>2019-11-05</td>\n",
       "      <td>BPAN4</td>\n",
       "      <td>compra_ou_venda</td>\n",
       "      <td>600.0</td>\n",
       "      <td>5502.0</td>\n",
       "    </tr>\n",
       "    <tr>\n",
       "      <th>1</th>\n",
       "      <td>2019-11-06</td>\n",
       "      <td>MGLU3</td>\n",
       "      <td>compra_ou_venda</td>\n",
       "      <td>-100.0</td>\n",
       "      <td>-4499.0</td>\n",
       "    </tr>\n",
       "    <tr>\n",
       "      <th>2</th>\n",
       "      <td>2019-11-08</td>\n",
       "      <td>BPAN4</td>\n",
       "      <td>compra_ou_venda</td>\n",
       "      <td>-600.0</td>\n",
       "      <td>-5598.0</td>\n",
       "    </tr>\n",
       "    <tr>\n",
       "      <th>3</th>\n",
       "      <td>2019-11-08</td>\n",
       "      <td>CCRO3</td>\n",
       "      <td>compra_ou_venda</td>\n",
       "      <td>300.0</td>\n",
       "      <td>5046.0</td>\n",
       "    </tr>\n",
       "    <tr>\n",
       "      <th>4</th>\n",
       "      <td>2019-11-12</td>\n",
       "      <td>CYRE3</td>\n",
       "      <td>compra_ou_venda</td>\n",
       "      <td>100.0</td>\n",
       "      <td>2725.0</td>\n",
       "    </tr>\n",
       "  </tbody>\n",
       "</table>\n",
       "</div>"
      ],
      "text/plain": [
       "        data ticker           evento     qt  vl_total\n",
       "0 2019-11-05  BPAN4  compra_ou_venda  600.0    5502.0\n",
       "1 2019-11-06  MGLU3  compra_ou_venda -100.0   -4499.0\n",
       "2 2019-11-08  BPAN4  compra_ou_venda -600.0   -5598.0\n",
       "3 2019-11-08  CCRO3  compra_ou_venda  300.0    5046.0\n",
       "4 2019-11-12  CYRE3  compra_ou_venda  100.0    2725.0"
      ]
     },
     "execution_count": 7,
     "metadata": {},
     "output_type": "execute_result"
    }
   ],
   "source": [
    "def only_bolsa(df):\n",
    "    df = df.loc[(df['tp_ativo'] == 'Tipo 2: ações') | (df['tp_ativo'] == 'Tipo 3: BDR')].sort_values(by=['ticker','data'], ascending=True)\n",
    "    df = df[['data', 'ticker', 'tp_movimento', 'evento', 'qt', 'preco_mov', 'vl_total']]\n",
    "    df = df.groupby(['data', 'ticker','evento']).agg({'qt':'sum', 'vl_total':'sum'}).reset_index(drop=False)\n",
    "    return df\n",
    "\n",
    "df_bolsa = only_bolsa(df_data_treatment)\n",
    "df_bolsa.head()"
   ]
  },
  {
   "cell_type": "markdown",
   "metadata": {},
   "source": [
    "## Tesouro Direto"
   ]
  },
  {
   "cell_type": "code",
   "execution_count": 8,
   "metadata": {},
   "outputs": [],
   "source": [
    "import pandas as pd\n",
    "import yfinance as yf\n",
    "from lib.history import tesouro\n",
    "from lib.date import dummy_last_day_of_month_in_sample\n",
    "from lib.streamlit import pivot_table, lineplot"
   ]
  },
  {
   "cell_type": "markdown",
   "metadata": {},
   "source": [
    "### Parte 1: Tabela Dinâmica"
   ]
  },
  {
   "cell_type": "code",
   "execution_count": 9,
   "metadata": {},
   "outputs": [
    {
     "data": {
      "text/html": [
       "<div>\n",
       "<style scoped>\n",
       "    .dataframe tbody tr th:only-of-type {\n",
       "        vertical-align: middle;\n",
       "    }\n",
       "\n",
       "    .dataframe tbody tr th {\n",
       "        vertical-align: top;\n",
       "    }\n",
       "\n",
       "    .dataframe thead th {\n",
       "        text-align: right;\n",
       "    }\n",
       "</style>\n",
       "<table border=\"1\" class=\"dataframe\">\n",
       "  <thead>\n",
       "    <tr style=\"text-align: right;\">\n",
       "      <th></th>\n",
       "      <th>data</th>\n",
       "      <th>ticker</th>\n",
       "      <th>qt</th>\n",
       "      <th>preco_mov</th>\n",
       "      <th>vl_total</th>\n",
       "    </tr>\n",
       "  </thead>\n",
       "  <tbody>\n",
       "    <tr>\n",
       "      <th>0</th>\n",
       "      <td>2021-06-30</td>\n",
       "      <td>Tesouro IPCA+ 2035</td>\n",
       "      <td>1.70</td>\n",
       "      <td>2045.17</td>\n",
       "      <td>3476.79</td>\n",
       "    </tr>\n",
       "    <tr>\n",
       "      <th>1</th>\n",
       "      <td>2022-07-01</td>\n",
       "      <td>Tesouro IPCA+ 2035</td>\n",
       "      <td>0.00</td>\n",
       "      <td>0.00</td>\n",
       "      <td>-3.14</td>\n",
       "    </tr>\n",
       "    <tr>\n",
       "      <th>2</th>\n",
       "      <td>2021-11-04</td>\n",
       "      <td>Tesouro IPCA+ 2045</td>\n",
       "      <td>3.30</td>\n",
       "      <td>1069.94</td>\n",
       "      <td>3530.80</td>\n",
       "    </tr>\n",
       "    <tr>\n",
       "      <th>3</th>\n",
       "      <td>2022-07-01</td>\n",
       "      <td>Tesouro IPCA+ 2045</td>\n",
       "      <td>0.00</td>\n",
       "      <td>0.00</td>\n",
       "      <td>-3.48</td>\n",
       "    </tr>\n",
       "    <tr>\n",
       "      <th>4</th>\n",
       "      <td>2020-07-10</td>\n",
       "      <td>Tesouro Prefixado 2023</td>\n",
       "      <td>1.63</td>\n",
       "      <td>903.07</td>\n",
       "      <td>1472.00</td>\n",
       "    </tr>\n",
       "  </tbody>\n",
       "</table>\n",
       "</div>"
      ],
      "text/plain": [
       "        data                  ticker    qt  preco_mov  vl_total\n",
       "0 2021-06-30      Tesouro IPCA+ 2035  1.70    2045.17   3476.79\n",
       "1 2022-07-01      Tesouro IPCA+ 2035  0.00       0.00     -3.14\n",
       "2 2021-11-04      Tesouro IPCA+ 2045  3.30    1069.94   3530.80\n",
       "3 2022-07-01      Tesouro IPCA+ 2045  0.00       0.00     -3.48\n",
       "4 2020-07-10  Tesouro Prefixado 2023  1.63     903.07   1472.00"
      ]
     },
     "execution_count": 9,
     "metadata": {},
     "output_type": "execute_result"
    }
   ],
   "source": [
    "df_tesouro.head()"
   ]
  },
  {
   "cell_type": "code",
   "execution_count": 10,
   "metadata": {},
   "outputs": [
    {
     "data": {
      "text/html": [
       "<div>\n",
       "<style scoped>\n",
       "    .dataframe tbody tr th:only-of-type {\n",
       "        vertical-align: middle;\n",
       "    }\n",
       "\n",
       "    .dataframe tbody tr th {\n",
       "        vertical-align: top;\n",
       "    }\n",
       "\n",
       "    .dataframe thead th {\n",
       "        text-align: right;\n",
       "    }\n",
       "</style>\n",
       "<table border=\"1\" class=\"dataframe\">\n",
       "  <thead>\n",
       "    <tr style=\"text-align: right;\">\n",
       "      <th></th>\n",
       "      <th>data</th>\n",
       "      <th>ticker</th>\n",
       "      <th>preco_hist</th>\n",
       "    </tr>\n",
       "  </thead>\n",
       "  <tbody>\n",
       "    <tr>\n",
       "      <th>0</th>\n",
       "      <td>2021-01-29</td>\n",
       "      <td>Tesouro IPCA+ com Juros Semestrais 2045</td>\n",
       "      <td>4505.79</td>\n",
       "    </tr>\n",
       "    <tr>\n",
       "      <th>1</th>\n",
       "      <td>2021-01-29</td>\n",
       "      <td>Tesouro IPCA+ com Juros Semestrais 2024</td>\n",
       "      <td>3995.84</td>\n",
       "    </tr>\n",
       "  </tbody>\n",
       "</table>\n",
       "</div>"
      ],
      "text/plain": [
       "        data                                   ticker  preco_hist\n",
       "0 2021-01-29  Tesouro IPCA+ com Juros Semestrais 2045     4505.79\n",
       "1 2021-01-29  Tesouro IPCA+ com Juros Semestrais 2024     3995.84"
      ]
     },
     "execution_count": 10,
     "metadata": {},
     "output_type": "execute_result"
    }
   ],
   "source": [
    "# Carregando os preços diários extraídos da API do Tesouro.\n",
    "df_history_tesouro = tesouro()\n",
    "df_history_tesouro.head(2)"
   ]
  },
  {
   "cell_type": "code",
   "execution_count": 11,
   "metadata": {},
   "outputs": [
    {
     "name": "stdout",
     "output_type": "stream",
     "text": [
      "<class 'pandas.core.frame.DataFrame'>\n",
      "RangeIndex: 2344 entries, 0 to 2343\n",
      "Data columns (total 3 columns):\n",
      " #   Column  Non-Null Count  Dtype\n",
      "---  ------  --------------  -----\n",
      " 0   year    2344 non-null   int64\n",
      " 1   month   2344 non-null   int64\n",
      " 2   day     2344 non-null   int64\n",
      "dtypes: int64(3)\n",
      "memory usage: 55.1 KB\n"
     ]
    },
    {
     "data": {
      "text/html": [
       "<div>\n",
       "<style scoped>\n",
       "    .dataframe tbody tr th:only-of-type {\n",
       "        vertical-align: middle;\n",
       "    }\n",
       "\n",
       "    .dataframe tbody tr th {\n",
       "        vertical-align: top;\n",
       "    }\n",
       "\n",
       "    .dataframe thead th {\n",
       "        text-align: right;\n",
       "    }\n",
       "</style>\n",
       "<table border=\"1\" class=\"dataframe\">\n",
       "  <thead>\n",
       "    <tr style=\"text-align: right;\">\n",
       "      <th></th>\n",
       "      <th>data</th>\n",
       "      <th>ticker</th>\n",
       "      <th>preco_hist</th>\n",
       "      <th>qt</th>\n",
       "      <th>preco_mov</th>\n",
       "      <th>vl_total</th>\n",
       "      <th>qt_acum</th>\n",
       "      <th>vl_atualizado</th>\n",
       "      <th>ultimo_dia_mes</th>\n",
       "    </tr>\n",
       "  </thead>\n",
       "  <tbody>\n",
       "    <tr>\n",
       "      <th>0</th>\n",
       "      <td>2021-06-30</td>\n",
       "      <td>Tesouro IPCA+ 2035</td>\n",
       "      <td>2002.19</td>\n",
       "      <td>1.7</td>\n",
       "      <td>2045.17</td>\n",
       "      <td>3476.79</td>\n",
       "      <td>1.7</td>\n",
       "      <td>3403.72</td>\n",
       "      <td>1</td>\n",
       "    </tr>\n",
       "    <tr>\n",
       "      <th>1</th>\n",
       "      <td>2021-07-01</td>\n",
       "      <td>Tesouro IPCA+ 2035</td>\n",
       "      <td>2000.26</td>\n",
       "      <td>0.0</td>\n",
       "      <td>0.00</td>\n",
       "      <td>0.00</td>\n",
       "      <td>1.7</td>\n",
       "      <td>3400.44</td>\n",
       "      <td>0</td>\n",
       "    </tr>\n",
       "  </tbody>\n",
       "</table>\n",
       "</div>"
      ],
      "text/plain": [
       "        data              ticker  preco_hist   qt  preco_mov  vl_total  \\\n",
       "0 2021-06-30  Tesouro IPCA+ 2035     2002.19  1.7    2045.17   3476.79   \n",
       "1 2021-07-01  Tesouro IPCA+ 2035     2000.26  0.0       0.00      0.00   \n",
       "\n",
       "   qt_acum  vl_atualizado  ultimo_dia_mes  \n",
       "0      1.7        3403.72               1  \n",
       "1      1.7        3400.44               0  "
      ]
     },
     "execution_count": 11,
     "metadata": {},
     "output_type": "execute_result"
    }
   ],
   "source": [
    "def tesouro_treatment(df_history_tesouro, df_tesouro):\n",
    "    df = pd.merge(df_history_tesouro, df_tesouro, on=['data','ticker'], how='left').fillna(0).sort_values(['ticker','data']).reset_index(drop=True)\n",
    "\n",
    "    for i in df.loc[df['qt'] > 0, 'ticker'].unique():\n",
    "        df.loc[df['ticker'] == i, 'qt_acum'] = df.loc[df['ticker'] == i, 'qt'].cumsum()\n",
    "        \n",
    "    df = df.loc[(df['qt_acum'] > 0) | (df['qt'] != 0)].reset_index(drop=True)\n",
    "    df['vl_atualizado'] = (df['qt_acum'] * df['preco_hist']).round(2)\n",
    "    df['ultimo_dia_mes'] = dummy_last_day_of_month_in_sample(date_array=df['data'])\n",
    "\n",
    "    return df\n",
    "\n",
    "\n",
    "df_tesouro_treatment = tesouro_treatment(df_history_tesouro, df_tesouro)\n",
    "df_tesouro_treatment.head(2)"
   ]
  },
  {
   "cell_type": "code",
   "execution_count": 12,
   "metadata": {},
   "outputs": [
    {
     "data": {
      "text/plain": [
       "\"\\n# Filtro de tickers.\\nlist_ticker = st.multiselect('Escolha o(s) investimento(s):',\\n                                df_tesouro_historico['ticker'].unique().tolist(),\\n                                df_tesouro_historico['ticker'].unique().tolist())\\ndf_tesouro_historico = df_tesouro_historico.loc[df_tesouro_historico['ticker'].isin(list_ticker)]\\n\""
      ]
     },
     "execution_count": 12,
     "metadata": {},
     "output_type": "execute_result"
    }
   ],
   "source": [
    "# Selecionar os tickers a serem visualizados (desnecessário neste notebook)\n",
    "'''\n",
    "# Filtro de tickers.\n",
    "list_ticker = st.multiselect('Escolha o(s) investimento(s):',\n",
    "                                df_tesouro_historico['ticker'].unique().tolist(),\n",
    "                                df_tesouro_historico['ticker'].unique().tolist())\n",
    "df_tesouro_historico = df_tesouro_historico.loc[df_tesouro_historico['ticker'].isin(list_ticker)]\n",
    "'''"
   ]
  },
  {
   "cell_type": "code",
   "execution_count": 13,
   "metadata": {},
   "outputs": [],
   "source": [
    "#pivot_table(df=df_tesouro_treatment, x='data', y='ticker', value='vl_atualizado')"
   ]
  },
  {
   "cell_type": "markdown",
   "metadata": {},
   "source": [
    "### Parte 2: Gráfico de Linha com Benchmark"
   ]
  },
  {
   "cell_type": "code",
   "execution_count": 14,
   "metadata": {},
   "outputs": [],
   "source": [
    "from lib.history import tesouro, cdi, ipca, ibovespa, sp500, all_benchmarks\n",
    "from lib.data_manipulation import calculate_accrued_yield"
   ]
  },
  {
   "cell_type": "code",
   "execution_count": 15,
   "metadata": {},
   "outputs": [
    {
     "name": "stdout",
     "output_type": "stream",
     "text": [
      "[*********************100%***********************]  1 of 1 completed\n",
      "[*********************100%***********************]  1 of 1 completed\n"
     ]
    }
   ],
   "source": [
    "df_tesouro_treatment['data'].min()\n",
    "\n",
    "\n",
    "df_benchmarks = all_benchmarks(start_date=df_tesouro_treatment['data'].min(),\n",
    "                               end_date=df_tesouro_treatment['data'].max())"
   ]
  },
  {
   "cell_type": "code",
   "execution_count": 32,
   "metadata": {},
   "outputs": [
    {
     "data": {
      "text/html": [
       "<div>\n",
       "<style scoped>\n",
       "    .dataframe tbody tr th:only-of-type {\n",
       "        vertical-align: middle;\n",
       "    }\n",
       "\n",
       "    .dataframe tbody tr th {\n",
       "        vertical-align: top;\n",
       "    }\n",
       "\n",
       "    .dataframe thead th {\n",
       "        text-align: right;\n",
       "    }\n",
       "</style>\n",
       "<table border=\"1\" class=\"dataframe\">\n",
       "  <thead>\n",
       "    <tr style=\"text-align: right;\">\n",
       "      <th></th>\n",
       "      <th>data</th>\n",
       "      <th>variable</th>\n",
       "      <th>value</th>\n",
       "      <th>data_lag</th>\n",
       "    </tr>\n",
       "  </thead>\n",
       "  <tbody>\n",
       "    <tr>\n",
       "      <th>0</th>\n",
       "      <td>2020-04-14</td>\n",
       "      <td>carteira</td>\n",
       "      <td>2959.40</td>\n",
       "      <td>2020-04-15</td>\n",
       "    </tr>\n",
       "    <tr>\n",
       "      <th>1</th>\n",
       "      <td>2020-04-15</td>\n",
       "      <td>carteira</td>\n",
       "      <td>2959.83</td>\n",
       "      <td>2020-04-16</td>\n",
       "    </tr>\n",
       "    <tr>\n",
       "      <th>2</th>\n",
       "      <td>2020-04-16</td>\n",
       "      <td>carteira</td>\n",
       "      <td>5180.45</td>\n",
       "      <td>2020-04-17</td>\n",
       "    </tr>\n",
       "    <tr>\n",
       "      <th>3</th>\n",
       "      <td>2020-04-17</td>\n",
       "      <td>carteira</td>\n",
       "      <td>5181.19</td>\n",
       "      <td>2020-04-20</td>\n",
       "    </tr>\n",
       "    <tr>\n",
       "      <th>4</th>\n",
       "      <td>2020-04-20</td>\n",
       "      <td>carteira</td>\n",
       "      <td>5181.94</td>\n",
       "      <td>2020-04-22</td>\n",
       "    </tr>\n",
       "  </tbody>\n",
       "</table>\n",
       "</div>"
      ],
      "text/plain": [
       "        data  variable    value   data_lag\n",
       "0 2020-04-14  carteira  2959.40 2020-04-15\n",
       "1 2020-04-15  carteira  2959.83 2020-04-16\n",
       "2 2020-04-16  carteira  5180.45 2020-04-17\n",
       "3 2020-04-17  carteira  5181.19 2020-04-20\n",
       "4 2020-04-20  carteira  5181.94 2020-04-22"
      ]
     },
     "execution_count": 32,
     "metadata": {},
     "output_type": "execute_result"
    }
   ],
   "source": [
    "def benchmark_treatment(df_tesouro_treatment, df_benchmarks):\n",
    "\n",
    "    list_bench = df_benchmarks.columns[1:].tolist()\n",
    "    df_agg = df_tesouro_treatment.groupby(['data']).agg({'vl_total':'sum', 'vl_atualizado':'sum'}).reset_index(drop=False)\n",
    "    df_agg.rename(columns={'vl_atualizado':'carteira'}, inplace=True)\n",
    "    df = pd.merge(df_agg, df_benchmarks, on='data', how='left')\n",
    "\n",
    "    for i in list_bench:\n",
    "        df[i] = calculate_accrued_yield(array_value=df['vl_total'], array_yield=df[i])\n",
    "        \n",
    "    df = pd.melt(df, id_vars='data', value_vars=['carteira'] + list_bench[1:])\n",
    "    df['data_lag'] = df['data'].shift(-1)\n",
    "\n",
    "    return df\n",
    "\n",
    "df_benchmark_treatment = benchmark_treatment(df_tesouro_treatment, df_benchmarks)\n",
    "df_benchmark_treatment.head()"
   ]
  },
  {
   "cell_type": "code",
   "execution_count": null,
   "metadata": {},
   "outputs": [],
   "source": [
    "lineplot(df=df_benchmark_treatment, x='data', y='value', label='variable', title='teste')"
   ]
  },
  {
   "cell_type": "markdown",
   "metadata": {},
   "source": [
    "### Parte 3: KPI"
   ]
  },
  {
   "cell_type": "code",
   "execution_count": null,
   "metadata": {},
   "outputs": [],
   "source": [
    "date_interval = (datetime.datetime(2022, 7, 3), datetime.datetime(2022, 12, 1))\n",
    "date_interval"
   ]
  },
  {
   "cell_type": "code",
   "execution_count": null,
   "metadata": {},
   "outputs": [],
   "source": [
    "df_date = pd.DataFrame({'data': pd.date_range(df_tesouro_historico['data'].min().to_pydatetime() - datetime.timedelta(days=1),\n",
    "                                                df_tesouro_historico['data'].max().to_pydatetime())})\n",
    "df_kpi = pd.merge(df_date, df_tesouro_historico, on='data', how='left')\n",
    "df_kpi = df_kpi.groupby('data').agg({'qt':'sum', 'qt_acum':'sum',  'vl_atualizado':'sum'}).reset_index()\n",
    "df_kpi['vl_atualizado'] = np.where(df_kpi['qt_acum'] != 0, df_kpi['vl_atualizado'], np.nan)\n",
    "df_kpi['vl_atualizado'] = df_kpi['vl_atualizado'].fillna(method='ffill').fillna(0)\n",
    "df_kpi.head()"
   ]
  },
  {
   "cell_type": "code",
   "execution_count": null,
   "metadata": {},
   "outputs": [],
   "source": [
    "# Cálculo dos aportes históricos.\n",
    "vl_aporte = df_tesouro_historico.loc[(df_tesouro_historico['qt'] != 0) &\n",
    "                                        (df_tesouro_historico['vl_total'] > 0) &\n",
    "                                        (df_tesouro_historico['data'] <= date_interval[1]), 'vl_total'].sum()\n",
    "\n",
    "vl_aporte_delta = df_tesouro_historico.loc[(df_tesouro_historico['qt'] != 0) &\n",
    "                                            (df_tesouro_historico['vl_total'] > 0) &\n",
    "                                            (df_tesouro_historico['data'].between(date_interval[0], date_interval[1])), 'vl_total'].sum()\n",
    "\n",
    "# Cálculo dos valores resgatados.\n",
    "vl_resgate = df_tesouro_historico.loc[(df_tesouro_historico['qt'] != 0) &\n",
    "                                        (df_tesouro_historico['vl_total'] < 0) &\n",
    "                                        (df_tesouro_historico['data'] <= date_interval[1]), 'vl_total'].sum()\n",
    "\n",
    "vl_resgate_delta = df_tesouro_historico.loc[(df_tesouro_historico['qt'] != 0) &\n",
    "                                            (df_tesouro_historico['vl_total'] < 0) &\n",
    "                                            (df_tesouro_historico['data'].between(date_interval[0], date_interval[1])), 'vl_total'].sum()\n",
    "\n",
    "# Cálculo do valor patrimonial.\n",
    "vl_patrimonio = df_kpi.loc[df_kpi['data'] == date_interval[1], 'vl_atualizado'].sum()\n",
    "vl_patrimonio_delta = vl_patrimonio - df_kpi.loc[df_kpi['data'] == date_interval[0], 'vl_atualizado'].sum()\n",
    "\n",
    "# Cálculo do rendimento.\n",
    "rendimento_nominal = round((vl_patrimonio - vl_resgate - vl_aporte) / vl_aporte * 100 , 1)\n",
    "if  vl_aporte_delta != 0:\n",
    "    rendimento_nominal_delta = round((vl_patrimonio_delta - vl_resgate_delta - vl_aporte_delta) / vl_aporte_delta * 100 , 1)\n",
    "else:\n",
    "    rendimento_nominal_delta = 0\n",
    "\n",
    "vl_aporte, vl_aporte_delta, vl_resgate, vl_resgate_delta, vl_patrimonio, vl_patrimonio_delta, rendimento_nominal, rendimento_nominal_delta"
   ]
  },
  {
   "cell_type": "markdown",
   "metadata": {},
   "source": [
    "## Bolsa"
   ]
  },
  {
   "cell_type": "code",
   "execution_count": null,
   "metadata": {},
   "outputs": [],
   "source": [
    "import pandas as pd\n",
    "import yfinance as yf"
   ]
  },
  {
   "cell_type": "code",
   "execution_count": null,
   "metadata": {},
   "outputs": [],
   "source": [
    "df_bolsa['data'] = pd.to_datetime(df_bolsa['data'], format='%Y-%m-%d')\n",
    "df_bolsa.head()"
   ]
  },
  {
   "cell_type": "code",
   "execution_count": null,
   "metadata": {},
   "outputs": [],
   "source": [
    "# Salvar lá encima!\n",
    "def etl_bolsa_historic_price(list_ticker_b3: list, start_date: str, end_date: str) -> np.array:\n",
    "\n",
    "    # Utilizando a api do yf\n",
    "    list_ticker_yf = [i + '.SA' for i in list_ticker_b3]\n",
    "    long_string = ' '.join(list_ticker_yf)\n",
    "    yf_df = yf.download(long_string, start=start_date, end=end_date, group_by='column', actions=True, interval='1d')\n",
    "    \n",
    "    # Obter o preço histórico e os eventos de agrupamento/desdobramento de ações\n",
    "    df_price = yf_df['Close'].reset_index().sort_values('Date', ascending=True).round(2)#.fillna(method='ffill')\n",
    "\n",
    "    # Ajustes gerais na base\n",
    "    df_price.columns = ['data'] + list(list_ticker_b3)    \n",
    "    df_price['data'] = pd.to_datetime(df_price['data'])\n",
    "    df_price = pd.melt(df_price, id_vars=['data'], value_vars=list(list_ticker_b3), var_name='ticker', value_name='preco')\n",
    "    \n",
    "    return df_price"
   ]
  },
  {
   "cell_type": "code",
   "execution_count": null,
   "metadata": {},
   "outputs": [],
   "source": [
    "# Passo 1: extrair dados atualizados de cada ticker.\n",
    "df_bolsa_historico = etl_bolsa_historic_price(list_ticker_b3=df_bolsa['ticker'].sort_values().unique(),\n",
    "                                              start_date=df_bolsa['data'].min(),\n",
    "                                              end_date=df_bolsa['data'].max())\n",
    "df_bolsa_historico.head()"
   ]
  },
  {
   "cell_type": "code",
   "execution_count": null,
   "metadata": {},
   "outputs": [],
   "source": [
    "\"\"\"\n",
    "# Experimentando como usar o stock split\n",
    "start_date = df_bolsa.loc[df_bolsa['ticker'] == 'B3SA3', 'data'].dt.date.min()\n",
    "end_date = df_bolsa.loc[df_bolsa['ticker'] == 'B3SA3', 'data'].dt.date.max()\n",
    "long_string = 'B3SA3.SA ITSA4.SA'\n",
    "\n",
    "#start_date\n",
    "yf_df = yf.download(long_string, start=start_date, end=end_date, group_by='column', actions=True, interval='1wk')\n",
    "yf_df_close = yf_df['Close'].reset_index().sort_values('Date', ascending=False).round(2).fillna(method='ffill')\n",
    "yf_df_split = yf_df['Stock Splits'].reset_index().sort_values('Date', ascending=False).cumsum().round(2).fillna(method='ffill').replace(0, 1)\n",
    "\n",
    "display(df_bolsa.loc[df_bolsa['ticker'] == 'B3SA3'])\n",
    "#display(yf_df)\n",
    "display(yf_df_close.sort_values('Date'))\n",
    "display(yf_df_split.sort_index())\n",
    "\n",
    "for i in ['B3SA3.SA']:\n",
    "    yf_df_close[i] = yf_df_close[i] * (yf_df_split[i])\n",
    "\n",
    "df_price = yf_df_close.sort_values('Date', ascending=True)\n",
    "display(df_price)\n",
    "\"\"\""
   ]
  },
  {
   "cell_type": "code",
   "execution_count": null,
   "metadata": {},
   "outputs": [],
   "source": [
    "# Passo 2: juntar a carteira com os preços históricos.\n",
    "df_bolsa2 = pd.merge(df_bolsa_historico, df_bolsa, on=['data', 'ticker'], how='left').fillna(0).sort_values(['ticker', 'data'])\n",
    "df_bolsa2.head()"
   ]
  },
  {
   "cell_type": "code",
   "execution_count": null,
   "metadata": {},
   "outputs": [],
   "source": [
    "# Passo 3: calcular a quantidade acumulada.\n",
    "for i in df_bolsa2['ticker'].sort_values().unique():\n",
    "    df_bolsa2.loc[df_bolsa2['ticker'] == i, 'qt_acum'] = df_bolsa2.loc[df_bolsa2['ticker'] == i, 'qt'].cumsum(skipna=True)\n",
    "    \n",
    "df_bolsa_acum = df_bolsa2.loc[(df_bolsa2['qt'] != 0) | (df_bolsa2['qt_acum'] != 0)]\n",
    "\n",
    "display(df_bolsa_acum.head(2))"
   ]
  },
  {
   "cell_type": "code",
   "execution_count": null,
   "metadata": {},
   "outputs": [],
   "source": [
    "# Passo 4: corrigir preço histórico por agrupamento/desdobramento de ações.\n",
    "def custom_price_adjustment_for_split(df):\n",
    "    df = df.sort_values(['ticker', 'data'], ascending=False)\n",
    "    for i in df['ticker'].unique():\n",
    "        array_event = df.loc[df['ticker'] == i, 'evento']\n",
    "\n",
    "        # Caso 1: não tem spit.\n",
    "        if len(array_event[array_event == 'split']) == 0:\n",
    "            df.loc[df_bolsa_acum['ticker'] == i, 'preco_fix'] = df.loc[df['ticker'] == i, 'preco']\n",
    "\n",
    "        # Caso 2: tem split(s).\n",
    "        else:\n",
    "            list_index = array_event[array_event == 'split'].index.tolist()\n",
    "            for j in list_index:\n",
    "                df.loc[j-1, 'multiplicador_split'] = df.loc[j, 'qt_acum'] / df.loc[j - 1, 'qt_acum']\n",
    "        df.loc[df['ticker'] == i, 'multiplicador_split'] = df.loc[df['ticker'] == i, 'multiplicador_split'].fillna(0).cumsum()\n",
    "\n",
    "    # Corrigindo os preços por splits.\n",
    "    df['multiplicador_split'] = df['multiplicador_split'].replace(0, 1)\n",
    "    df['preco_fix'] = df['preco'] * df['multiplicador_split']\n",
    "    df['vl_atualizado_fix'] = df['preco_fix'] * df['qt_acum']\n",
    "    df = df.sort_values(['ticker', 'data'], ascending=True)\n",
    "    return df\n",
    "\n",
    "#with pd.option_context('display.max_rows', None, 'display.max_columns', None):\n",
    "#    display(df_preco_fix)"
   ]
  },
  {
   "cell_type": "code",
   "execution_count": null,
   "metadata": {},
   "outputs": [],
   "source": [
    "df_bolsa_split = custom_price_adjustment_for_split(df_bolsa_acum)\n",
    "df_bolsa_split.head()"
   ]
  },
  {
   "cell_type": "code",
   "execution_count": null,
   "metadata": {},
   "outputs": [],
   "source": [
    "# Passo 5: criar uma coluna identificando o último dia do mês de cada ativo (útil para os plots)\n",
    "df_bolsa_split = lib.create_column_last_day(df_bolsa_split)\n",
    "df_bolsa_split.head()"
   ]
  },
  {
   "cell_type": "code",
   "execution_count": null,
   "metadata": {},
   "outputs": [],
   "source": [
    "# Passo 6: criar tabela dinâmica customizada\n",
    "df_plot = df_bolsa_split.loc[df_bolsa_split['dummy_ultimo_dia'] == 1]\n",
    "df_plot, data_col = lib.custom_pivot_table(df_plot, col_value='vl_atualizado_fix')\n",
    "\n",
    "df_plot.head()"
   ]
  },
  {
   "cell_type": "markdown",
   "metadata": {},
   "source": [
    "-----------"
   ]
  },
  {
   "cell_type": "markdown",
   "metadata": {},
   "source": [
    "Print melhorado!\n",
    "\n",
    "```python\n",
    "with pd.option_context('display.max_rows', None, 'display.max_columns', None): \n",
    "    display(df)\n",
    "```"
   ]
  },
  {
   "cell_type": "code",
   "execution_count": null,
   "metadata": {},
   "outputs": [],
   "source": [
    "# Teste\n",
    "a = ['a', 'b', 'c']\n",
    "for index, value in enumerate(a):\n",
    "    print(index, value)"
   ]
  },
  {
   "cell_type": "code",
   "execution_count": null,
   "metadata": {},
   "outputs": [],
   "source": [
    "a = ['a', 'b', 'c']\n",
    "b = [4, 5, 6]    \n",
    "for value_a, value_b in zip(a, b):\n",
    "    print(value_a, value_b)"
   ]
  }
 ],
 "metadata": {
  "kernelspec": {
   "display_name": "Python 3 (ipykernel)",
   "language": "python",
   "name": "python3"
  },
  "language_info": {
   "codemirror_mode": {
    "name": "ipython",
    "version": 3
   },
   "file_extension": ".py",
   "mimetype": "text/x-python",
   "name": "python",
   "nbconvert_exporter": "python",
   "pygments_lexer": "ipython3",
   "version": "3.10.4"
  },
  "vscode": {
   "interpreter": {
    "hash": "7d7662bde5678ddf41fb482e2cda39dd85fc62406be2c88b1ebdc7b78e575873"
   }
  }
 },
 "nbformat": 4,
 "nbformat_minor": 4
}

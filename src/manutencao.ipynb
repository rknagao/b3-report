{
 "cells": [
  {
   "cell_type": "markdown",
   "metadata": {},
   "source": [
    "# Notebook para manutenção do código"
   ]
  },
  {
   "cell_type": "markdown",
   "metadata": {},
   "source": [
    "## Home"
   ]
  },
  {
   "cell_type": "code",
   "execution_count": 93,
   "metadata": {},
   "outputs": [],
   "source": [
    "import logging\n",
    "import numpy as np\n",
    "import pandas as pd\n",
    "from PIL import Image\n",
    "import streamlit as st"
   ]
  },
  {
   "cell_type": "code",
   "execution_count": 94,
   "metadata": {},
   "outputs": [],
   "source": [
    "# Extra script\n",
    "uploaded_files = [\n",
    "    '../data/kenji/movimentacao-2019.xlsx',\n",
    "    '../data/kenji/movimentacao-2020.xlsx',\n",
    "    '../data/kenji/movimentacao-2021.xlsx',\n",
    "    '../data/kenji/movimentacao-2022.xlsx',\n",
    "]"
   ]
  },
  {
   "cell_type": "code",
   "execution_count": 95,
   "metadata": {},
   "outputs": [
    {
     "name": "stderr",
     "output_type": "stream",
     "text": [
      "c:\\Users\\Kenji\\AppData\\Local\\Programs\\Python\\Python310\\lib\\site-packages\\openpyxl\\styles\\stylesheet.py:226: UserWarning: Workbook contains no default style, apply openpyxl's default\n",
      "  warn(\"Workbook contains no default style, apply openpyxl's default\")\n",
      "c:\\Users\\Kenji\\AppData\\Local\\Programs\\Python\\Python310\\lib\\site-packages\\openpyxl\\styles\\stylesheet.py:226: UserWarning: Workbook contains no default style, apply openpyxl's default\n",
      "  warn(\"Workbook contains no default style, apply openpyxl's default\")\n",
      "c:\\Users\\Kenji\\AppData\\Local\\Programs\\Python\\Python310\\lib\\site-packages\\openpyxl\\styles\\stylesheet.py:226: UserWarning: Workbook contains no default style, apply openpyxl's default\n",
      "  warn(\"Workbook contains no default style, apply openpyxl's default\")\n"
     ]
    },
    {
     "data": {
      "text/html": [
       "<div>\n",
       "<style scoped>\n",
       "    .dataframe tbody tr th:only-of-type {\n",
       "        vertical-align: middle;\n",
       "    }\n",
       "\n",
       "    .dataframe tbody tr th {\n",
       "        vertical-align: top;\n",
       "    }\n",
       "\n",
       "    .dataframe thead th {\n",
       "        text-align: right;\n",
       "    }\n",
       "</style>\n",
       "<table border=\"1\" class=\"dataframe\">\n",
       "  <thead>\n",
       "    <tr style=\"text-align: right;\">\n",
       "      <th></th>\n",
       "      <th>Entrada/Saída</th>\n",
       "      <th>Data</th>\n",
       "      <th>Movimentação</th>\n",
       "      <th>Produto</th>\n",
       "      <th>Instituição</th>\n",
       "      <th>Quantidade</th>\n",
       "      <th>Preço unitário</th>\n",
       "      <th>Valor da Operação</th>\n",
       "    </tr>\n",
       "  </thead>\n",
       "  <tbody>\n",
       "    <tr>\n",
       "      <th>0</th>\n",
       "      <td>Credito</td>\n",
       "      <td>17/12/2019</td>\n",
       "      <td>Transferência - Liquidação</td>\n",
       "      <td>CEBR3 - CIA ENERGETICA DE BRASILIA</td>\n",
       "      <td>MODAL DTVM LTDA</td>\n",
       "      <td>100.0</td>\n",
       "      <td>53.69</td>\n",
       "      <td>5369.0</td>\n",
       "    </tr>\n",
       "    <tr>\n",
       "      <th>1</th>\n",
       "      <td>Credito</td>\n",
       "      <td>17/12/2019</td>\n",
       "      <td>Transferência - Liquidação</td>\n",
       "      <td>ITSA4 - ITAUSA S/A</td>\n",
       "      <td>MODAL DTVM LTDA</td>\n",
       "      <td>100.0</td>\n",
       "      <td>13.6</td>\n",
       "      <td>1360.0</td>\n",
       "    </tr>\n",
       "  </tbody>\n",
       "</table>\n",
       "</div>"
      ],
      "text/plain": [
       "  Entrada/Saída        Data                Movimentação  \\\n",
       "0       Credito  17/12/2019  Transferência - Liquidação   \n",
       "1       Credito  17/12/2019  Transferência - Liquidação   \n",
       "\n",
       "                              Produto      Instituição  Quantidade  \\\n",
       "0  CEBR3 - CIA ENERGETICA DE BRASILIA  MODAL DTVM LTDA       100.0   \n",
       "1                  ITSA4 - ITAUSA S/A  MODAL DTVM LTDA       100.0   \n",
       "\n",
       "  Preço unitário Valor da Operação  \n",
       "0          53.69            5369.0  \n",
       "1           13.6            1360.0  "
      ]
     },
     "execution_count": 95,
     "metadata": {},
     "output_type": "execute_result"
    }
   ],
   "source": [
    "def data_ingestion(uploaded_files):\n",
    "    df = pd.DataFrame()\n",
    "    for i in uploaded_files:\n",
    "        df_temp = pd.read_excel(i, engine='openpyxl')\n",
    "        df = pd.concat([df, df_temp], axis=0, ignore_index=True)\n",
    "    \n",
    "    df.drop_duplicates(keep='last', inplace=True)        \n",
    "    return df\n",
    "    \n",
    "# Teste\n",
    "df_data_ingestion = data_ingestion(uploaded_files)\n",
    "df_data_ingestion.head(2)"
   ]
  },
  {
   "cell_type": "code",
   "execution_count": 96,
   "metadata": {},
   "outputs": [
    {
     "data": {
      "text/html": [
       "<div>\n",
       "<style scoped>\n",
       "    .dataframe tbody tr th:only-of-type {\n",
       "        vertical-align: middle;\n",
       "    }\n",
       "\n",
       "    .dataframe tbody tr th {\n",
       "        vertical-align: top;\n",
       "    }\n",
       "\n",
       "    .dataframe thead th {\n",
       "        text-align: right;\n",
       "    }\n",
       "</style>\n",
       "<table border=\"1\" class=\"dataframe\">\n",
       "  <thead>\n",
       "    <tr style=\"text-align: right;\">\n",
       "      <th></th>\n",
       "      <th>credito_ou_debito</th>\n",
       "      <th>data</th>\n",
       "      <th>tp_movimento</th>\n",
       "      <th>ativo</th>\n",
       "      <th>instituicao</th>\n",
       "      <th>qt_abs</th>\n",
       "      <th>preco_mov</th>\n",
       "      <th>vl_total_abs</th>\n",
       "      <th>tp_ativo</th>\n",
       "      <th>ticker</th>\n",
       "      <th>qt</th>\n",
       "      <th>vl_total</th>\n",
       "      <th>evento</th>\n",
       "    </tr>\n",
       "  </thead>\n",
       "  <tbody>\n",
       "    <tr>\n",
       "      <th>0</th>\n",
       "      <td>Credito</td>\n",
       "      <td>2019-12-17</td>\n",
       "      <td>Transferência - Liquidação</td>\n",
       "      <td>CEBR3 - CIA ENERGETICA DE BRASILIA</td>\n",
       "      <td>MODAL DTVM LTDA</td>\n",
       "      <td>100.0</td>\n",
       "      <td>53.69</td>\n",
       "      <td>5369.0</td>\n",
       "      <td>Tipo 2: ações</td>\n",
       "      <td>CEBR3</td>\n",
       "      <td>100.0</td>\n",
       "      <td>5369.0</td>\n",
       "      <td>compra_ou_venda</td>\n",
       "    </tr>\n",
       "    <tr>\n",
       "      <th>1</th>\n",
       "      <td>Credito</td>\n",
       "      <td>2019-12-17</td>\n",
       "      <td>Transferência - Liquidação</td>\n",
       "      <td>ITSA4 - ITAUSA S/A</td>\n",
       "      <td>MODAL DTVM LTDA</td>\n",
       "      <td>100.0</td>\n",
       "      <td>13.60</td>\n",
       "      <td>1360.0</td>\n",
       "      <td>Tipo 2: ações</td>\n",
       "      <td>ITSA4</td>\n",
       "      <td>100.0</td>\n",
       "      <td>1360.0</td>\n",
       "      <td>compra_ou_venda</td>\n",
       "    </tr>\n",
       "  </tbody>\n",
       "</table>\n",
       "</div>"
      ],
      "text/plain": [
       "  credito_ou_debito       data                tp_movimento  \\\n",
       "0           Credito 2019-12-17  Transferência - Liquidação   \n",
       "1           Credito 2019-12-17  Transferência - Liquidação   \n",
       "\n",
       "                                ativo      instituicao  qt_abs  preco_mov  \\\n",
       "0  CEBR3 - CIA ENERGETICA DE BRASILIA  MODAL DTVM LTDA   100.0      53.69   \n",
       "1                  ITSA4 - ITAUSA S/A  MODAL DTVM LTDA   100.0      13.60   \n",
       "\n",
       "   vl_total_abs       tp_ativo ticker     qt  vl_total           evento  \n",
       "0        5369.0  Tipo 2: ações  CEBR3  100.0    5369.0  compra_ou_venda  \n",
       "1        1360.0  Tipo 2: ações  ITSA4  100.0    1360.0  compra_ou_venda  "
      ]
     },
     "execution_count": 96,
     "metadata": {},
     "output_type": "execute_result"
    }
   ],
   "source": [
    "def data_treatment(df):\n",
    "    # Datatype\n",
    "    dict_dtype = {'credito_ou_debito': str,\n",
    "                  'data': str,\n",
    "                  'tp_movimento': str,\n",
    "                  'ativo': str,\n",
    "                  'instituicao': str,\n",
    "                  'qt_abs': float,\n",
    "                  'preco_mov': float,\n",
    "                  'vl_total_abs': float}\n",
    "    \n",
    "    df.columns = list(dict_dtype.keys())\n",
    "    df['preco_mov'].replace('-', 0, inplace=True)\n",
    "    df['vl_total_abs'].replace('-', 0, inplace=True)\n",
    "    df = df.astype(dict_dtype)\n",
    "    df['data'] = pd.to_datetime(df['data'], format='%d/%m/%Y')\n",
    "\n",
    "    # (geral) Nova variável: classificação do ativo.\n",
    "    df['tp_ativo'] = np.select(\n",
    "        [\n",
    "            (df['ativo'].str.upper()).str.contains('TESOURO'),\n",
    "            df['ativo'].str.split(' - ', 0).str[0].str.len() == 5,\n",
    "            df['ativo'].str.split(' - ', 0).str[0].str.len() == 6,\n",
    "            df['ativo'].str.contains('DEB'),\n",
    "            df['ativo'].str.contains('|'.join(['CDB', 'RDB', 'LCA', 'LCI']))\n",
    "        ],\n",
    "        [\n",
    "            'Tipo 1: tesouro',\n",
    "            'Tipo 2: ações',\n",
    "            'Tipo 3: BDR',\n",
    "            'Tipo 4: debêntures',\n",
    "            'Tipo 5: renda fixa privada'\n",
    "        ],'?'\n",
    "    )\n",
    "\n",
    "    # (geral) Nova variável: ticker.\n",
    "    df['ticker'] = np.select(\n",
    "        [\n",
    "            df['tp_ativo'] == 'Tipo 4: debêntures',\n",
    "            df['tp_ativo'] == 'Tipo 5: renda fixa privada'\n",
    "        ],\n",
    "        [   \n",
    "            df['ativo'].str[5:12],\n",
    "            df['ativo'].str[5:17]\n",
    "        ], df['ativo'].str.split(' - ').str[0]\n",
    "    )\n",
    "\n",
    "    # (bolsa) Ajuste específico de ações: zerar a quantidade de compra/venda em caso de dividendos e juros sobre capital próprio.\n",
    "    condition = ~df['tp_movimento'].isin(['Transferência - Liquidação', 'Bonificação em Ativos', 'Desdobro']) & \\\n",
    "                df['tp_ativo'].isin(['Tipo 2: ações', 'Tipo 3: BDR'])\n",
    "    df['qt_abs'] = np.where(condition, 0, df['qt_abs'])\n",
    "\n",
    "    # (geral) Nova variável: variação na quantidade de ativos.\n",
    "    df['qt'] = df['qt_abs'] * np.where(df['credito_ou_debito'] == 'Credito', 1, -1)\n",
    "\n",
    "    # (geral) Nova variável: variação na quantidade no valor total.\n",
    "    df['vl_total'] = df['vl_total_abs'] * np.where(df['credito_ou_debito'] == 'Credito', 1, -1)\n",
    "\n",
    "    # (bolsa) Nova variável: flag se a negociação é um provento (dividendo, juros sobre capital próprio ou leilão)\n",
    "    df['evento'] = np.select(\n",
    "        [\n",
    "            df['tp_movimento'].isin(['Dividendo', 'Juros Sobre Capital Próprio', 'Fração em Ativos', 'Leilão de Fração']),\n",
    "            df['tp_movimento'].isin(['Bonificação em Ativos']),\n",
    "            df['tp_movimento'].isin(['Desdobro', 'Grupamento', ]),\n",
    "            df['tp_movimento'].isin(['Transferência - Liquidação', 'Compra', 'Venda', 'COMPRA / VENDA', 'COMPRA/VENDA DEFINITIVA/CESSAO']),\n",
    "            df['tp_movimento'].isin(['Cobrança de Taxa Semestral', 'Atualização'])\n",
    "        ],\n",
    "        [\n",
    "            'dividendo_ou_jcp',\n",
    "            'bonificacao',\n",
    "            'split',\n",
    "            'compra_ou_venda',\n",
    "            'outros'\n",
    "        ],\n",
    "        '?')\n",
    "    return df\n",
    "\n",
    "# Teste\n",
    "df_data_treatment = data_treatment(df_data_ingestion)\n",
    "df_data_treatment.head(2)"
   ]
  },
  {
   "cell_type": "code",
   "execution_count": 97,
   "metadata": {},
   "outputs": [
    {
     "data": {
      "text/html": [
       "<div>\n",
       "<style scoped>\n",
       "    .dataframe tbody tr th:only-of-type {\n",
       "        vertical-align: middle;\n",
       "    }\n",
       "\n",
       "    .dataframe tbody tr th {\n",
       "        vertical-align: top;\n",
       "    }\n",
       "\n",
       "    .dataframe thead th {\n",
       "        text-align: right;\n",
       "    }\n",
       "</style>\n",
       "<table border=\"1\" class=\"dataframe\">\n",
       "  <thead>\n",
       "    <tr style=\"text-align: right;\">\n",
       "      <th></th>\n",
       "      <th>credito_ou_debito</th>\n",
       "      <th>data</th>\n",
       "      <th>tp_movimento</th>\n",
       "      <th>ativo</th>\n",
       "      <th>instituicao</th>\n",
       "      <th>qt_abs</th>\n",
       "      <th>preco_mov</th>\n",
       "      <th>vl_total_abs</th>\n",
       "      <th>tp_ativo</th>\n",
       "      <th>ticker</th>\n",
       "      <th>qt</th>\n",
       "      <th>vl_total</th>\n",
       "      <th>evento</th>\n",
       "    </tr>\n",
       "  </thead>\n",
       "  <tbody>\n",
       "    <tr>\n",
       "      <th>17</th>\n",
       "      <td>Debito</td>\n",
       "      <td>2019-11-08</td>\n",
       "      <td>Transferência - Liquidação</td>\n",
       "      <td>BPAN4 - BANCO PAN S/A</td>\n",
       "      <td>MODAL DTVM LTDA</td>\n",
       "      <td>600.0</td>\n",
       "      <td>9.33</td>\n",
       "      <td>5598.0</td>\n",
       "      <td>Tipo 2: ações</td>\n",
       "      <td>BPAN4</td>\n",
       "      <td>-600.0</td>\n",
       "      <td>-5598.0</td>\n",
       "      <td>compra_ou_venda</td>\n",
       "    </tr>\n",
       "    <tr>\n",
       "      <th>20</th>\n",
       "      <td>Credito</td>\n",
       "      <td>2019-11-05</td>\n",
       "      <td>Transferência - Liquidação</td>\n",
       "      <td>BPAN4 - BANCO PAN S/A</td>\n",
       "      <td>MODAL DTVM LTDA</td>\n",
       "      <td>600.0</td>\n",
       "      <td>9.17</td>\n",
       "      <td>5502.0</td>\n",
       "      <td>Tipo 2: ações</td>\n",
       "      <td>BPAN4</td>\n",
       "      <td>600.0</td>\n",
       "      <td>5502.0</td>\n",
       "      <td>compra_ou_venda</td>\n",
       "    </tr>\n",
       "  </tbody>\n",
       "</table>\n",
       "</div>"
      ],
      "text/plain": [
       "   credito_ou_debito       data                tp_movimento  \\\n",
       "17            Debito 2019-11-08  Transferência - Liquidação   \n",
       "20           Credito 2019-11-05  Transferência - Liquidação   \n",
       "\n",
       "                    ativo      instituicao  qt_abs  preco_mov  vl_total_abs  \\\n",
       "17  BPAN4 - BANCO PAN S/A  MODAL DTVM LTDA   600.0       9.33        5598.0   \n",
       "20  BPAN4 - BANCO PAN S/A  MODAL DTVM LTDA   600.0       9.17        5502.0   \n",
       "\n",
       "         tp_ativo ticker     qt  vl_total           evento  \n",
       "17  Tipo 2: ações  BPAN4 -600.0   -5598.0  compra_ou_venda  \n",
       "20  Tipo 2: ações  BPAN4  600.0    5502.0  compra_ou_venda  "
      ]
     },
     "execution_count": 97,
     "metadata": {},
     "output_type": "execute_result"
    }
   ],
   "source": [
    "a = df_data_treatment\n",
    "a.loc[a['ticker'] == 'BPAN4']"
   ]
  },
  {
   "cell_type": "code",
   "execution_count": 98,
   "metadata": {},
   "outputs": [
    {
     "data": {
      "text/html": [
       "<div>\n",
       "<style scoped>\n",
       "    .dataframe tbody tr th:only-of-type {\n",
       "        vertical-align: middle;\n",
       "    }\n",
       "\n",
       "    .dataframe tbody tr th {\n",
       "        vertical-align: top;\n",
       "    }\n",
       "\n",
       "    .dataframe thead th {\n",
       "        text-align: right;\n",
       "    }\n",
       "</style>\n",
       "<table border=\"1\" class=\"dataframe\">\n",
       "  <thead>\n",
       "    <tr style=\"text-align: right;\">\n",
       "      <th></th>\n",
       "      <th>data</th>\n",
       "      <th>ticker</th>\n",
       "      <th>qt</th>\n",
       "      <th>preco_mov</th>\n",
       "      <th>vl_total</th>\n",
       "    </tr>\n",
       "  </thead>\n",
       "  <tbody>\n",
       "    <tr>\n",
       "      <th>0</th>\n",
       "      <td>2021-06-30</td>\n",
       "      <td>Tesouro IPCA+ 2035</td>\n",
       "      <td>1.7</td>\n",
       "      <td>2045.17</td>\n",
       "      <td>3476.79</td>\n",
       "    </tr>\n",
       "    <tr>\n",
       "      <th>1</th>\n",
       "      <td>2022-07-01</td>\n",
       "      <td>Tesouro IPCA+ 2035</td>\n",
       "      <td>0.0</td>\n",
       "      <td>0.00</td>\n",
       "      <td>-3.14</td>\n",
       "    </tr>\n",
       "  </tbody>\n",
       "</table>\n",
       "</div>"
      ],
      "text/plain": [
       "        data              ticker   qt  preco_mov  vl_total\n",
       "0 2021-06-30  Tesouro IPCA+ 2035  1.7    2045.17   3476.79\n",
       "1 2022-07-01  Tesouro IPCA+ 2035  0.0       0.00     -3.14"
      ]
     },
     "execution_count": 98,
     "metadata": {},
     "output_type": "execute_result"
    }
   ],
   "source": [
    "def only_tesouro(df):\n",
    "    df = df.loc[df['tp_ativo'] == 'Tipo 1: tesouro'].sort_values(by=['ticker','data'], ascending=True)\n",
    "    df = df.groupby(['tp_ativo','ticker','data']).agg({'qt':'sum', 'vl_total':'sum'}).reset_index()\n",
    "    df['preco_mov'] = np.where(df['qt'] != 0, round(df['vl_total'] / df['qt'], 2), 0)\n",
    "    df = df[['data', 'ticker', 'qt', 'preco_mov', 'vl_total']]\n",
    "    return df\n",
    "\n",
    "# Teste\n",
    "df_tesouro = only_tesouro(df_data_treatment)\n",
    "df_tesouro.head(2)"
   ]
  },
  {
   "cell_type": "code",
   "execution_count": 99,
   "metadata": {},
   "outputs": [
    {
     "data": {
      "text/html": [
       "<div>\n",
       "<style scoped>\n",
       "    .dataframe tbody tr th:only-of-type {\n",
       "        vertical-align: middle;\n",
       "    }\n",
       "\n",
       "    .dataframe tbody tr th {\n",
       "        vertical-align: top;\n",
       "    }\n",
       "\n",
       "    .dataframe thead th {\n",
       "        text-align: right;\n",
       "    }\n",
       "</style>\n",
       "<table border=\"1\" class=\"dataframe\">\n",
       "  <thead>\n",
       "    <tr style=\"text-align: right;\">\n",
       "      <th></th>\n",
       "      <th>data</th>\n",
       "      <th>ticker</th>\n",
       "      <th>evento</th>\n",
       "      <th>qt</th>\n",
       "      <th>vl_total</th>\n",
       "    </tr>\n",
       "  </thead>\n",
       "  <tbody>\n",
       "    <tr>\n",
       "      <th>0</th>\n",
       "      <td>2019-11-05</td>\n",
       "      <td>BPAN4</td>\n",
       "      <td>compra_ou_venda</td>\n",
       "      <td>600.0</td>\n",
       "      <td>5502.0</td>\n",
       "    </tr>\n",
       "    <tr>\n",
       "      <th>1</th>\n",
       "      <td>2019-11-06</td>\n",
       "      <td>MGLU3</td>\n",
       "      <td>compra_ou_venda</td>\n",
       "      <td>-100.0</td>\n",
       "      <td>-4499.0</td>\n",
       "    </tr>\n",
       "    <tr>\n",
       "      <th>2</th>\n",
       "      <td>2019-11-08</td>\n",
       "      <td>BPAN4</td>\n",
       "      <td>compra_ou_venda</td>\n",
       "      <td>-600.0</td>\n",
       "      <td>-5598.0</td>\n",
       "    </tr>\n",
       "    <tr>\n",
       "      <th>3</th>\n",
       "      <td>2019-11-08</td>\n",
       "      <td>CCRO3</td>\n",
       "      <td>compra_ou_venda</td>\n",
       "      <td>300.0</td>\n",
       "      <td>5046.0</td>\n",
       "    </tr>\n",
       "    <tr>\n",
       "      <th>4</th>\n",
       "      <td>2019-11-12</td>\n",
       "      <td>CYRE3</td>\n",
       "      <td>compra_ou_venda</td>\n",
       "      <td>100.0</td>\n",
       "      <td>2725.0</td>\n",
       "    </tr>\n",
       "  </tbody>\n",
       "</table>\n",
       "</div>"
      ],
      "text/plain": [
       "        data ticker           evento     qt  vl_total\n",
       "0 2019-11-05  BPAN4  compra_ou_venda  600.0    5502.0\n",
       "1 2019-11-06  MGLU3  compra_ou_venda -100.0   -4499.0\n",
       "2 2019-11-08  BPAN4  compra_ou_venda -600.0   -5598.0\n",
       "3 2019-11-08  CCRO3  compra_ou_venda  300.0    5046.0\n",
       "4 2019-11-12  CYRE3  compra_ou_venda  100.0    2725.0"
      ]
     },
     "execution_count": 99,
     "metadata": {},
     "output_type": "execute_result"
    }
   ],
   "source": [
    "def only_bolsa(df):\n",
    "    df = df.loc[(df['tp_ativo'] == 'Tipo 2: ações') | (df['tp_ativo'] == 'Tipo 3: BDR')].sort_values(by=['ticker','data'], ascending=True)\n",
    "    df = df[['data', 'ticker', 'tp_movimento', 'evento', 'qt', 'preco_mov', 'vl_total']]\n",
    "    df = df.groupby(['data', 'ticker','evento']).agg({'qt':'sum', 'vl_total':'sum'}).reset_index(drop=False)\n",
    "    return df\n",
    "\n",
    "df_bolsa = only_bolsa(df_data_treatment)\n",
    "df_bolsa.head()"
   ]
  },
  {
   "cell_type": "markdown",
   "metadata": {},
   "source": [
    "## Tesouro Direto"
   ]
  },
  {
   "cell_type": "code",
   "execution_count": 100,
   "metadata": {},
   "outputs": [],
   "source": [
    "import datetime\n",
    "import pandas as pd\n",
    "import yfinance as yf\n",
    "from lib.history import tesouro\n",
    "from lib.date import dummy_last_day_of_month_in_sample\n",
    "from lib.streamlit import pivot_table, lineplot"
   ]
  },
  {
   "cell_type": "markdown",
   "metadata": {},
   "source": [
    "### Parte 1: Tabela Dinâmica"
   ]
  },
  {
   "cell_type": "code",
   "execution_count": 101,
   "metadata": {},
   "outputs": [
    {
     "data": {
      "text/html": [
       "<div>\n",
       "<style scoped>\n",
       "    .dataframe tbody tr th:only-of-type {\n",
       "        vertical-align: middle;\n",
       "    }\n",
       "\n",
       "    .dataframe tbody tr th {\n",
       "        vertical-align: top;\n",
       "    }\n",
       "\n",
       "    .dataframe thead th {\n",
       "        text-align: right;\n",
       "    }\n",
       "</style>\n",
       "<table border=\"1\" class=\"dataframe\">\n",
       "  <thead>\n",
       "    <tr style=\"text-align: right;\">\n",
       "      <th></th>\n",
       "      <th>data</th>\n",
       "      <th>ticker</th>\n",
       "      <th>qt</th>\n",
       "      <th>preco_mov</th>\n",
       "      <th>vl_total</th>\n",
       "    </tr>\n",
       "  </thead>\n",
       "  <tbody>\n",
       "    <tr>\n",
       "      <th>0</th>\n",
       "      <td>2021-06-30</td>\n",
       "      <td>Tesouro IPCA+ 2035</td>\n",
       "      <td>1.70</td>\n",
       "      <td>2045.17</td>\n",
       "      <td>3476.79</td>\n",
       "    </tr>\n",
       "    <tr>\n",
       "      <th>1</th>\n",
       "      <td>2022-07-01</td>\n",
       "      <td>Tesouro IPCA+ 2035</td>\n",
       "      <td>0.00</td>\n",
       "      <td>0.00</td>\n",
       "      <td>-3.14</td>\n",
       "    </tr>\n",
       "    <tr>\n",
       "      <th>2</th>\n",
       "      <td>2021-11-04</td>\n",
       "      <td>Tesouro IPCA+ 2045</td>\n",
       "      <td>3.30</td>\n",
       "      <td>1069.94</td>\n",
       "      <td>3530.80</td>\n",
       "    </tr>\n",
       "    <tr>\n",
       "      <th>3</th>\n",
       "      <td>2022-07-01</td>\n",
       "      <td>Tesouro IPCA+ 2045</td>\n",
       "      <td>0.00</td>\n",
       "      <td>0.00</td>\n",
       "      <td>-3.48</td>\n",
       "    </tr>\n",
       "    <tr>\n",
       "      <th>4</th>\n",
       "      <td>2020-07-10</td>\n",
       "      <td>Tesouro Prefixado 2023</td>\n",
       "      <td>1.63</td>\n",
       "      <td>903.07</td>\n",
       "      <td>1472.00</td>\n",
       "    </tr>\n",
       "  </tbody>\n",
       "</table>\n",
       "</div>"
      ],
      "text/plain": [
       "        data                  ticker    qt  preco_mov  vl_total\n",
       "0 2021-06-30      Tesouro IPCA+ 2035  1.70    2045.17   3476.79\n",
       "1 2022-07-01      Tesouro IPCA+ 2035  0.00       0.00     -3.14\n",
       "2 2021-11-04      Tesouro IPCA+ 2045  3.30    1069.94   3530.80\n",
       "3 2022-07-01      Tesouro IPCA+ 2045  0.00       0.00     -3.48\n",
       "4 2020-07-10  Tesouro Prefixado 2023  1.63     903.07   1472.00"
      ]
     },
     "execution_count": 101,
     "metadata": {},
     "output_type": "execute_result"
    }
   ],
   "source": [
    "df_tesouro.head()"
   ]
  },
  {
   "cell_type": "code",
   "execution_count": 102,
   "metadata": {},
   "outputs": [
    {
     "data": {
      "text/html": [
       "<div>\n",
       "<style scoped>\n",
       "    .dataframe tbody tr th:only-of-type {\n",
       "        vertical-align: middle;\n",
       "    }\n",
       "\n",
       "    .dataframe tbody tr th {\n",
       "        vertical-align: top;\n",
       "    }\n",
       "\n",
       "    .dataframe thead th {\n",
       "        text-align: right;\n",
       "    }\n",
       "</style>\n",
       "<table border=\"1\" class=\"dataframe\">\n",
       "  <thead>\n",
       "    <tr style=\"text-align: right;\">\n",
       "      <th></th>\n",
       "      <th>data</th>\n",
       "      <th>ticker</th>\n",
       "      <th>preco_hist</th>\n",
       "    </tr>\n",
       "  </thead>\n",
       "  <tbody>\n",
       "    <tr>\n",
       "      <th>0</th>\n",
       "      <td>2018-11-30</td>\n",
       "      <td>Tesouro IGPM+ com Juros Semestrais 2031</td>\n",
       "      <td>6457.80</td>\n",
       "    </tr>\n",
       "    <tr>\n",
       "      <th>1</th>\n",
       "      <td>2018-11-30</td>\n",
       "      <td>Tesouro Selic 2023</td>\n",
       "      <td>9811.13</td>\n",
       "    </tr>\n",
       "  </tbody>\n",
       "</table>\n",
       "</div>"
      ],
      "text/plain": [
       "        data                                   ticker  preco_hist\n",
       "0 2018-11-30  Tesouro IGPM+ com Juros Semestrais 2031     6457.80\n",
       "1 2018-11-30                       Tesouro Selic 2023     9811.13"
      ]
     },
     "execution_count": 102,
     "metadata": {},
     "output_type": "execute_result"
    }
   ],
   "source": [
    "# Carregando os preços diários extraídos da API do Tesouro.\n",
    "df_history_tesouro = tesouro()\n",
    "df_history_tesouro.head(2)"
   ]
  },
  {
   "cell_type": "code",
   "execution_count": 103,
   "metadata": {},
   "outputs": [
    {
     "data": {
      "text/html": [
       "<div>\n",
       "<style scoped>\n",
       "    .dataframe tbody tr th:only-of-type {\n",
       "        vertical-align: middle;\n",
       "    }\n",
       "\n",
       "    .dataframe tbody tr th {\n",
       "        vertical-align: top;\n",
       "    }\n",
       "\n",
       "    .dataframe thead th {\n",
       "        text-align: right;\n",
       "    }\n",
       "</style>\n",
       "<table border=\"1\" class=\"dataframe\">\n",
       "  <thead>\n",
       "    <tr style=\"text-align: right;\">\n",
       "      <th></th>\n",
       "      <th>data</th>\n",
       "      <th>ticker</th>\n",
       "      <th>preco_hist</th>\n",
       "      <th>qt</th>\n",
       "      <th>preco_mov</th>\n",
       "      <th>vl_total</th>\n",
       "      <th>qt_acum</th>\n",
       "      <th>vl_atualizado</th>\n",
       "      <th>ultimo_dia_mes</th>\n",
       "    </tr>\n",
       "  </thead>\n",
       "  <tbody>\n",
       "    <tr>\n",
       "      <th>0</th>\n",
       "      <td>2021-06-30</td>\n",
       "      <td>Tesouro IPCA+ 2035</td>\n",
       "      <td>2002.19</td>\n",
       "      <td>1.7</td>\n",
       "      <td>2045.17</td>\n",
       "      <td>3476.79</td>\n",
       "      <td>1.7</td>\n",
       "      <td>3403.72</td>\n",
       "      <td>1</td>\n",
       "    </tr>\n",
       "    <tr>\n",
       "      <th>1</th>\n",
       "      <td>2021-07-01</td>\n",
       "      <td>Tesouro IPCA+ 2035</td>\n",
       "      <td>2000.26</td>\n",
       "      <td>0.0</td>\n",
       "      <td>0.00</td>\n",
       "      <td>0.00</td>\n",
       "      <td>1.7</td>\n",
       "      <td>3400.44</td>\n",
       "      <td>0</td>\n",
       "    </tr>\n",
       "  </tbody>\n",
       "</table>\n",
       "</div>"
      ],
      "text/plain": [
       "        data              ticker  preco_hist   qt  preco_mov  vl_total  \\\n",
       "0 2021-06-30  Tesouro IPCA+ 2035     2002.19  1.7    2045.17   3476.79   \n",
       "1 2021-07-01  Tesouro IPCA+ 2035     2000.26  0.0       0.00      0.00   \n",
       "\n",
       "   qt_acum  vl_atualizado  ultimo_dia_mes  \n",
       "0      1.7        3403.72               1  \n",
       "1      1.7        3400.44               0  "
      ]
     },
     "execution_count": 103,
     "metadata": {},
     "output_type": "execute_result"
    }
   ],
   "source": [
    "def tesouro_treatment(df_history_tesouro, df_tesouro):\n",
    "    df = pd.merge(df_history_tesouro, df_tesouro, on=['data','ticker'], how='left').fillna(0).sort_values(['ticker','data']).reset_index(drop=True)\n",
    "\n",
    "    for i in df.loc[df['qt'] > 0, 'ticker'].unique():\n",
    "        df.loc[df['ticker'] == i, 'qt_acum'] = df.loc[df['ticker'] == i, 'qt'].cumsum()\n",
    "        \n",
    "    df = df.loc[(df['qt_acum'] > 0) | (df['qt'] != 0)].reset_index(drop=True)\n",
    "    df['vl_atualizado'] = (df['qt_acum'] * df['preco_hist']).round(2)\n",
    "    df['ultimo_dia_mes'] = dummy_last_day_of_month_in_sample(date_array=df['data'])\n",
    "\n",
    "    return df\n",
    "\n",
    "\n",
    "df_tesouro_treatment = tesouro_treatment(df_history_tesouro, df_tesouro)\n",
    "df_tesouro_treatment.head(2)"
   ]
  },
  {
   "cell_type": "code",
   "execution_count": 104,
   "metadata": {},
   "outputs": [
    {
     "data": {
      "text/plain": [
       "\"\\n# Filtro de tickers.\\nlist_ticker = st.multiselect('Escolha o(s) investimento(s):',\\n                                df_tesouro_historico['ticker'].unique().tolist(),\\n                                df_tesouro_historico['ticker'].unique().tolist())\\ndf_tesouro_historico = df_tesouro_historico.loc[df_tesouro_historico['ticker'].isin(list_ticker)]\\n\""
      ]
     },
     "execution_count": 104,
     "metadata": {},
     "output_type": "execute_result"
    }
   ],
   "source": [
    "# Selecionar os tickers a serem visualizados (desnecessário neste notebook)\n",
    "'''\n",
    "# Filtro de tickers.\n",
    "list_ticker = st.multiselect('Escolha o(s) investimento(s):',\n",
    "                                df_tesouro_historico['ticker'].unique().tolist(),\n",
    "                                df_tesouro_historico['ticker'].unique().tolist())\n",
    "df_tesouro_historico = df_tesouro_historico.loc[df_tesouro_historico['ticker'].isin(list_ticker)]\n",
    "'''"
   ]
  },
  {
   "cell_type": "code",
   "execution_count": 105,
   "metadata": {},
   "outputs": [],
   "source": [
    "#pivot_table(df=df_tesouro_treatment, x='data', y='ticker', value='vl_atualizado')"
   ]
  },
  {
   "cell_type": "markdown",
   "metadata": {},
   "source": [
    "### Parte 2: Gráfico de Linha com Benchmark"
   ]
  },
  {
   "cell_type": "code",
   "execution_count": 106,
   "metadata": {},
   "outputs": [],
   "source": [
    "from lib.history import tesouro, cdi, ipca, ibovespa, sp500, all_benchmarks\n",
    "from lib.data_manipulation import calculate_accrued_yield"
   ]
  },
  {
   "cell_type": "code",
   "execution_count": 107,
   "metadata": {},
   "outputs": [
    {
     "name": "stdout",
     "output_type": "stream",
     "text": [
      "[*********************100%***********************]  1 of 1 completed\n",
      "[*********************100%***********************]  1 of 1 completed\n"
     ]
    }
   ],
   "source": [
    "df_tesouro_treatment['data'].min()\n",
    "\n",
    "\n",
    "df_benchmarks = all_benchmarks(start_date=df_tesouro_treatment['data'].min(),\n",
    "                               end_date=df_tesouro_treatment['data'].max())"
   ]
  },
  {
   "cell_type": "code",
   "execution_count": 108,
   "metadata": {},
   "outputs": [
    {
     "data": {
      "text/plain": [
       "(Timestamp('2021-06-30 00:00:00'), Timestamp('2020-04-14 00:00:00'))"
      ]
     },
     "execution_count": 108,
     "metadata": {},
     "output_type": "execute_result"
    }
   ],
   "source": [
    "df_tesouro_treatment.loc[0, 'data'], df_benchmarks.loc[0, 'data']"
   ]
  },
  {
   "cell_type": "code",
   "execution_count": 109,
   "metadata": {},
   "outputs": [
    {
     "data": {
      "text/html": [
       "<div>\n",
       "<style scoped>\n",
       "    .dataframe tbody tr th:only-of-type {\n",
       "        vertical-align: middle;\n",
       "    }\n",
       "\n",
       "    .dataframe tbody tr th {\n",
       "        vertical-align: top;\n",
       "    }\n",
       "\n",
       "    .dataframe thead th {\n",
       "        text-align: right;\n",
       "    }\n",
       "</style>\n",
       "<table border=\"1\" class=\"dataframe\">\n",
       "  <thead>\n",
       "    <tr style=\"text-align: right;\">\n",
       "      <th></th>\n",
       "      <th>data</th>\n",
       "      <th>variable</th>\n",
       "      <th>value</th>\n",
       "      <th>data_lag</th>\n",
       "    </tr>\n",
       "  </thead>\n",
       "  <tbody>\n",
       "    <tr>\n",
       "      <th>0</th>\n",
       "      <td>2020-04-14</td>\n",
       "      <td>carteira</td>\n",
       "      <td>2959.40</td>\n",
       "      <td>2020-04-15</td>\n",
       "    </tr>\n",
       "    <tr>\n",
       "      <th>1</th>\n",
       "      <td>2020-04-15</td>\n",
       "      <td>carteira</td>\n",
       "      <td>2959.83</td>\n",
       "      <td>2020-04-16</td>\n",
       "    </tr>\n",
       "    <tr>\n",
       "      <th>2</th>\n",
       "      <td>2020-04-16</td>\n",
       "      <td>carteira</td>\n",
       "      <td>5180.45</td>\n",
       "      <td>2020-04-17</td>\n",
       "    </tr>\n",
       "    <tr>\n",
       "      <th>3</th>\n",
       "      <td>2020-04-17</td>\n",
       "      <td>carteira</td>\n",
       "      <td>5181.19</td>\n",
       "      <td>2020-04-20</td>\n",
       "    </tr>\n",
       "    <tr>\n",
       "      <th>4</th>\n",
       "      <td>2020-04-20</td>\n",
       "      <td>carteira</td>\n",
       "      <td>5181.94</td>\n",
       "      <td>2020-04-22</td>\n",
       "    </tr>\n",
       "  </tbody>\n",
       "</table>\n",
       "</div>"
      ],
      "text/plain": [
       "        data  variable    value   data_lag\n",
       "0 2020-04-14  carteira  2959.40 2020-04-15\n",
       "1 2020-04-15  carteira  2959.83 2020-04-16\n",
       "2 2020-04-16  carteira  5180.45 2020-04-17\n",
       "3 2020-04-17  carteira  5181.19 2020-04-20\n",
       "4 2020-04-20  carteira  5181.94 2020-04-22"
      ]
     },
     "execution_count": 109,
     "metadata": {},
     "output_type": "execute_result"
    }
   ],
   "source": [
    "def benchmark_treatment(df_tesouro_treatment, df_benchmarks):\n",
    "\n",
    "    list_bench = df_benchmarks.columns[1:].tolist()\n",
    "    df_agg = df_tesouro_treatment.groupby(['data']).agg({'vl_total':'sum', 'vl_atualizado':'sum'}).reset_index(drop=False)\n",
    "    df_agg.rename(columns={'vl_atualizado':'carteira'}, inplace=True)\n",
    "    df_agg['data'] = pd.to_datetime(df_agg['data'])\n",
    "    df = pd.merge(df_agg, df_benchmarks, on='data', how='left')\n",
    "\n",
    "    for i in list_bench:\n",
    "        df[i] = calculate_accrued_yield(array_value=df['vl_total'], array_yield=df[i])\n",
    "        \n",
    "    df = pd.melt(df, id_vars='data', value_vars=['carteira'] + list_bench[1:])\n",
    "    df['data_lag'] = df['data'].shift(-1)\n",
    "\n",
    "    return df\n",
    "\n",
    "df_benchmark_treatment = benchmark_treatment(df_tesouro_treatment, df_benchmarks)\n",
    "df_benchmark_treatment.head()"
   ]
  },
  {
   "cell_type": "code",
   "execution_count": 110,
   "metadata": {},
   "outputs": [
    {
     "data": {
      "text/plain": [
       "<AxesSubplot:xlabel='data', ylabel='value'>"
      ]
     },
     "execution_count": 110,
     "metadata": {},
     "output_type": "execute_result"
    },
    {
     "data": {
      "image/png": "[encoded data removed]",
      "text/plain": [
       "<Figure size 432x288 with 1 Axes>"
      ]
     },
     "metadata": {
      "needs_background": "light"
     },
     "output_type": "display_data"
    }
   ],
   "source": [
    "import seaborn as sns\n",
    "sns.lineplot(data=df_benchmark_treatment, x='data', y='value', hue='variable')"
   ]
  },
  {
   "cell_type": "code",
   "execution_count": 111,
   "metadata": {},
   "outputs": [],
   "source": [
    "#lineplot(df=df_benchmark_treatment, x='data', y='value', label='variable', title='teste')"
   ]
  },
  {
   "cell_type": "markdown",
   "metadata": {},
   "source": [
    "### Parte 3: KPI"
   ]
  },
  {
   "cell_type": "code",
   "execution_count": 112,
   "metadata": {},
   "outputs": [
    {
     "data": {
      "text/plain": [
       "(datetime.datetime(2022, 7, 3, 0, 0), datetime.datetime(2022, 12, 1, 0, 0))"
      ]
     },
     "execution_count": 112,
     "metadata": {},
     "output_type": "execute_result"
    }
   ],
   "source": [
    "date_interval = (datetime.datetime(2022, 7, 3), datetime.datetime(2022, 12, 1))\n",
    "date_interval"
   ]
  },
  {
   "cell_type": "code",
   "execution_count": 113,
   "metadata": {},
   "outputs": [
    {
     "data": {
      "text/html": [
       "<div>\n",
       "<style scoped>\n",
       "    .dataframe tbody tr th:only-of-type {\n",
       "        vertical-align: middle;\n",
       "    }\n",
       "\n",
       "    .dataframe tbody tr th {\n",
       "        vertical-align: top;\n",
       "    }\n",
       "\n",
       "    .dataframe thead th {\n",
       "        text-align: right;\n",
       "    }\n",
       "</style>\n",
       "<table border=\"1\" class=\"dataframe\">\n",
       "  <thead>\n",
       "    <tr style=\"text-align: right;\">\n",
       "      <th></th>\n",
       "      <th>data</th>\n",
       "      <th>qt</th>\n",
       "      <th>qt_acum</th>\n",
       "      <th>vl_atualizado</th>\n",
       "    </tr>\n",
       "  </thead>\n",
       "  <tbody>\n",
       "    <tr>\n",
       "      <th>0</th>\n",
       "      <td>2020-04-13</td>\n",
       "      <td>0.00</td>\n",
       "      <td>0.00</td>\n",
       "      <td>0.00</td>\n",
       "    </tr>\n",
       "    <tr>\n",
       "      <th>1</th>\n",
       "      <td>2020-04-14</td>\n",
       "      <td>0.28</td>\n",
       "      <td>0.28</td>\n",
       "      <td>2959.40</td>\n",
       "    </tr>\n",
       "    <tr>\n",
       "      <th>2</th>\n",
       "      <td>2020-04-15</td>\n",
       "      <td>0.00</td>\n",
       "      <td>0.28</td>\n",
       "      <td>2959.83</td>\n",
       "    </tr>\n",
       "    <tr>\n",
       "      <th>3</th>\n",
       "      <td>2020-04-16</td>\n",
       "      <td>0.21</td>\n",
       "      <td>0.49</td>\n",
       "      <td>5180.45</td>\n",
       "    </tr>\n",
       "    <tr>\n",
       "      <th>4</th>\n",
       "      <td>2020-04-17</td>\n",
       "      <td>0.00</td>\n",
       "      <td>0.49</td>\n",
       "      <td>5181.19</td>\n",
       "    </tr>\n",
       "  </tbody>\n",
       "</table>\n",
       "</div>"
      ],
      "text/plain": [
       "        data    qt  qt_acum  vl_atualizado\n",
       "0 2020-04-13  0.00     0.00           0.00\n",
       "1 2020-04-14  0.28     0.28        2959.40\n",
       "2 2020-04-15  0.00     0.28        2959.83\n",
       "3 2020-04-16  0.21     0.49        5180.45\n",
       "4 2020-04-17  0.00     0.49        5181.19"
      ]
     },
     "execution_count": 113,
     "metadata": {},
     "output_type": "execute_result"
    }
   ],
   "source": [
    "df_date = pd.DataFrame({'data': pd.date_range(df_tesouro_treatment['data'].min().to_pydatetime() - datetime.timedelta(days=1),\n",
    "                                                df_tesouro_treatment['data'].max().to_pydatetime())})\n",
    "df_kpi = pd.merge(df_date, df_tesouro_treatment, on='data', how='left')\n",
    "df_kpi = df_kpi.groupby('data').agg({'qt':'sum', 'qt_acum':'sum',  'vl_atualizado':'sum'}).reset_index()\n",
    "df_kpi['vl_atualizado'] = np.where(df_kpi['qt_acum'] != 0, df_kpi['vl_atualizado'], np.nan)\n",
    "df_kpi['vl_atualizado'] = df_kpi['vl_atualizado'].fillna(method='ffill').fillna(0)\n",
    "df_kpi.head()"
   ]
  },
  {
   "cell_type": "code",
   "execution_count": 114,
   "metadata": {},
   "outputs": [
    {
     "data": {
      "text/plain": [
       "(86689.84, 5779.64, -33237.02, 0.0, 58991.38, 8434.96, 6.4, 45.9)"
      ]
     },
     "execution_count": 114,
     "metadata": {},
     "output_type": "execute_result"
    }
   ],
   "source": [
    "# Cálculo dos aportes históricos.\n",
    "vl_aporte = df_tesouro_treatment.loc[(df_tesouro_treatment['qt'] != 0) &\n",
    "                                        (df_tesouro_treatment['vl_total'] > 0) &\n",
    "                                        (df_tesouro_treatment['data'] <= date_interval[1]), 'vl_total'].sum()\n",
    "\n",
    "vl_aporte_delta = df_tesouro_treatment.loc[(df_tesouro_treatment['qt'] != 0) &\n",
    "                                            (df_tesouro_treatment['vl_total'] > 0) &\n",
    "                                            (df_tesouro_treatment['data'].between(date_interval[0], date_interval[1])), 'vl_total'].sum()\n",
    "\n",
    "# Cálculo dos valores resgatados.\n",
    "vl_resgate = df_tesouro_treatment.loc[(df_tesouro_treatment['qt'] != 0) &\n",
    "                                        (df_tesouro_treatment['vl_total'] < 0) &\n",
    "                                        (df_tesouro_treatment['data'] <= date_interval[1]), 'vl_total'].sum()\n",
    "\n",
    "vl_resgate_delta = df_tesouro_treatment.loc[(df_tesouro_treatment['qt'] != 0) &\n",
    "                                            (df_tesouro_treatment['vl_total'] < 0) &\n",
    "                                            (df_tesouro_treatment['data'].between(date_interval[0], date_interval[1])), 'vl_total'].sum()\n",
    "\n",
    "# Cálculo do valor patrimonial.\n",
    "vl_patrimonio = df_kpi.loc[df_kpi['data'] == date_interval[1], 'vl_atualizado'].sum()\n",
    "vl_patrimonio_delta = vl_patrimonio - df_kpi.loc[df_kpi['data'] == date_interval[0], 'vl_atualizado'].sum()\n",
    "\n",
    "# Cálculo do rendimento.\n",
    "rendimento_nominal = round((vl_patrimonio - vl_resgate - vl_aporte) / vl_aporte * 100 , 1)\n",
    "if  vl_aporte_delta != 0:\n",
    "    rendimento_nominal_delta = round((vl_patrimonio_delta - vl_resgate_delta - vl_aporte_delta) / vl_aporte_delta * 100 , 1)\n",
    "else:\n",
    "    rendimento_nominal_delta = 0\n",
    "\n",
    "vl_aporte, vl_aporte_delta, vl_resgate, vl_resgate_delta, vl_patrimonio, vl_patrimonio_delta, rendimento_nominal, rendimento_nominal_delta"
   ]
  },
  {
   "cell_type": "markdown",
   "metadata": {},
   "source": [
    "## Bolsa"
   ]
  },
  {
   "cell_type": "code",
   "execution_count": 115,
   "metadata": {},
   "outputs": [],
   "source": [
    "import pandas as pd\n",
    "import yfinance as yf\n",
    "from lib.data_manipulation import calculate_accrued_yield\n",
    "from lib.date import dummy_last_day_of_month_in_sample\n",
    "from lib.history import bolsa, cdi, ipca, ibovespa, sp500, all_benchmarks\n",
    "from lib.streamlit import pivot_table"
   ]
  },
  {
   "attachments": {},
   "cell_type": "markdown",
   "metadata": {},
   "source": [
    "### Parte 1: tabela dinâmica"
   ]
  },
  {
   "cell_type": "code",
   "execution_count": 116,
   "metadata": {},
   "outputs": [
    {
     "data": {
      "text/html": [
       "<div>\n",
       "<style scoped>\n",
       "    .dataframe tbody tr th:only-of-type {\n",
       "        vertical-align: middle;\n",
       "    }\n",
       "\n",
       "    .dataframe tbody tr th {\n",
       "        vertical-align: top;\n",
       "    }\n",
       "\n",
       "    .dataframe thead th {\n",
       "        text-align: right;\n",
       "    }\n",
       "</style>\n",
       "<table border=\"1\" class=\"dataframe\">\n",
       "  <thead>\n",
       "    <tr style=\"text-align: right;\">\n",
       "      <th></th>\n",
       "      <th>data</th>\n",
       "      <th>ticker</th>\n",
       "      <th>evento</th>\n",
       "      <th>qt</th>\n",
       "      <th>vl_total</th>\n",
       "    </tr>\n",
       "  </thead>\n",
       "  <tbody>\n",
       "    <tr>\n",
       "      <th>0</th>\n",
       "      <td>2019-11-05</td>\n",
       "      <td>BPAN4</td>\n",
       "      <td>compra_ou_venda</td>\n",
       "      <td>600.0</td>\n",
       "      <td>5502.0</td>\n",
       "    </tr>\n",
       "    <tr>\n",
       "      <th>1</th>\n",
       "      <td>2019-11-06</td>\n",
       "      <td>MGLU3</td>\n",
       "      <td>compra_ou_venda</td>\n",
       "      <td>-100.0</td>\n",
       "      <td>-4499.0</td>\n",
       "    </tr>\n",
       "    <tr>\n",
       "      <th>2</th>\n",
       "      <td>2019-11-08</td>\n",
       "      <td>BPAN4</td>\n",
       "      <td>compra_ou_venda</td>\n",
       "      <td>-600.0</td>\n",
       "      <td>-5598.0</td>\n",
       "    </tr>\n",
       "    <tr>\n",
       "      <th>3</th>\n",
       "      <td>2019-11-08</td>\n",
       "      <td>CCRO3</td>\n",
       "      <td>compra_ou_venda</td>\n",
       "      <td>300.0</td>\n",
       "      <td>5046.0</td>\n",
       "    </tr>\n",
       "    <tr>\n",
       "      <th>4</th>\n",
       "      <td>2019-11-12</td>\n",
       "      <td>CYRE3</td>\n",
       "      <td>compra_ou_venda</td>\n",
       "      <td>100.0</td>\n",
       "      <td>2725.0</td>\n",
       "    </tr>\n",
       "  </tbody>\n",
       "</table>\n",
       "</div>"
      ],
      "text/plain": [
       "        data ticker           evento     qt  vl_total\n",
       "0 2019-11-05  BPAN4  compra_ou_venda  600.0    5502.0\n",
       "1 2019-11-06  MGLU3  compra_ou_venda -100.0   -4499.0\n",
       "2 2019-11-08  BPAN4  compra_ou_venda -600.0   -5598.0\n",
       "3 2019-11-08  CCRO3  compra_ou_venda  300.0    5046.0\n",
       "4 2019-11-12  CYRE3  compra_ou_venda  100.0    2725.0"
      ]
     },
     "execution_count": 116,
     "metadata": {},
     "output_type": "execute_result"
    }
   ],
   "source": [
    "df_bolsa['data'] = pd.to_datetime(df_bolsa['data'], format='%Y-%m-%d')\n",
    "df_bolsa.head()"
   ]
  },
  {
   "cell_type": "code",
   "execution_count": 117,
   "metadata": {},
   "outputs": [
    {
     "name": "stdout",
     "output_type": "stream",
     "text": [
      "[*********************100%***********************]  20 of 20 completed\n"
     ]
    },
    {
     "data": {
      "text/html": [
       "<div>\n",
       "<style scoped>\n",
       "    .dataframe tbody tr th:only-of-type {\n",
       "        vertical-align: middle;\n",
       "    }\n",
       "\n",
       "    .dataframe tbody tr th {\n",
       "        vertical-align: top;\n",
       "    }\n",
       "\n",
       "    .dataframe thead th {\n",
       "        text-align: right;\n",
       "    }\n",
       "</style>\n",
       "<table border=\"1\" class=\"dataframe\">\n",
       "  <thead>\n",
       "    <tr style=\"text-align: right;\">\n",
       "      <th></th>\n",
       "      <th>data</th>\n",
       "      <th>ticker</th>\n",
       "      <th>preco</th>\n",
       "    </tr>\n",
       "  </thead>\n",
       "  <tbody>\n",
       "    <tr>\n",
       "      <th>0</th>\n",
       "      <td>2019-11-05</td>\n",
       "      <td>B3SA3</td>\n",
       "      <td>16.43</td>\n",
       "    </tr>\n",
       "    <tr>\n",
       "      <th>1</th>\n",
       "      <td>2019-11-06</td>\n",
       "      <td>B3SA3</td>\n",
       "      <td>16.30</td>\n",
       "    </tr>\n",
       "    <tr>\n",
       "      <th>2</th>\n",
       "      <td>2019-11-07</td>\n",
       "      <td>B3SA3</td>\n",
       "      <td>16.47</td>\n",
       "    </tr>\n",
       "    <tr>\n",
       "      <th>3</th>\n",
       "      <td>2019-11-08</td>\n",
       "      <td>B3SA3</td>\n",
       "      <td>16.23</td>\n",
       "    </tr>\n",
       "    <tr>\n",
       "      <th>4</th>\n",
       "      <td>2019-11-11</td>\n",
       "      <td>B3SA3</td>\n",
       "      <td>16.70</td>\n",
       "    </tr>\n",
       "  </tbody>\n",
       "</table>\n",
       "</div>"
      ],
      "text/plain": [
       "        data ticker  preco\n",
       "0 2019-11-05  B3SA3  16.43\n",
       "1 2019-11-06  B3SA3  16.30\n",
       "2 2019-11-07  B3SA3  16.47\n",
       "3 2019-11-08  B3SA3  16.23\n",
       "4 2019-11-11  B3SA3  16.70"
      ]
     },
     "execution_count": 117,
     "metadata": {},
     "output_type": "execute_result"
    }
   ],
   "source": [
    "# Passo 1: extrair dados atualizados de cada ticker.\n",
    "df_history_bolsa = bolsa(list_ticker_b3=df_bolsa['ticker'].sort_values().unique(),\n",
    "                           start_date=df_bolsa['data'].min(),\n",
    "                           end_date=df_bolsa['data'].max())\n",
    "df_history_bolsa.head()"
   ]
  },
  {
   "cell_type": "code",
   "execution_count": 118,
   "metadata": {},
   "outputs": [],
   "source": [
    "def bolsa_treatment(df_history_bolsa, df_bolsa):\n",
    "    df = pd.merge(df_history_bolsa, df_bolsa, on=['data', 'ticker'], how='left').fillna(0).sort_values(['ticker', 'data'])\n",
    "\n",
    "    # Calcular a quantidade acumulada.\n",
    "    for i in df['ticker'].sort_values().unique():\n",
    "        df.loc[df['ticker'] == i, 'qt_acum'] = df.loc[df['ticker'] == i, 'qt'].cumsum(skipna=True)\n",
    "    \n",
    "    df = df.loc[(df['qt'] != 0) | (df['qt_acum'] != 0)]\n",
    "\n",
    "    # Identificando os splides/agrupamentos na amostra.\n",
    "    df = df.sort_values(['ticker', 'data'], ascending=False)\n",
    "    for i in df['ticker'].unique():\n",
    "        array_event = df.loc[df['ticker'] == i, 'evento']\n",
    "\n",
    "        # Caso 1: não tem spit.\n",
    "        if len(array_event[array_event == 'split']) == 0:\n",
    "            df.loc[df['ticker'] == i, 'preco_fix'] = df.loc[df['ticker'] == i, 'preco']\n",
    "\n",
    "        # Caso 2: tem split(s).\n",
    "        else:\n",
    "            list_index = array_event[array_event == 'split'].index.tolist()\n",
    "            for j in list_index:\n",
    "                df.loc[j-1, 'multiplicador_split'] = df.loc[j, 'qt_acum'] / df.loc[j - 1, 'qt_acum']\n",
    "        df.loc[df['ticker'] == i, 'multiplicador_split'] = df.loc[df['ticker'] == i, 'multiplicador_split'].fillna(0).cumsum()\n",
    "\n",
    "    # Aplicando as correções.\n",
    "    df['multiplicador_split'] = df['multiplicador_split'].replace(0, 1)\n",
    "    df['preco_fix'] = df['preco'] * df['multiplicador_split']\n",
    "    df['vl_atualizado_fix'] = df['preco_fix'] * df['qt_acum']\n",
    "    df = df.sort_values(['ticker', 'data'], ascending=True).reset_index(drop=True)\n",
    "    \n",
    "    # Identificando o último dia de cada mês presente na amostra.\n",
    "    df['ultimo_dia_mes'] = dummy_last_day_of_month_in_sample(df['data'])\n",
    "\n",
    "    return df\n",
    "\n",
    "df_bolsa_treatment = bolsa_treatment(df_history_bolsa, df_bolsa)"
   ]
  },
  {
   "cell_type": "code",
   "execution_count": 119,
   "metadata": {},
   "outputs": [
    {
     "data": {
      "text/html": [
       "<div>\n",
       "<style scoped>\n",
       "    .dataframe tbody tr th:only-of-type {\n",
       "        vertical-align: middle;\n",
       "    }\n",
       "\n",
       "    .dataframe tbody tr th {\n",
       "        vertical-align: top;\n",
       "    }\n",
       "\n",
       "    .dataframe thead th {\n",
       "        text-align: right;\n",
       "    }\n",
       "</style>\n",
       "<table border=\"1\" class=\"dataframe\">\n",
       "  <thead>\n",
       "    <tr style=\"text-align: right;\">\n",
       "      <th></th>\n",
       "      <th>data</th>\n",
       "      <th>ticker</th>\n",
       "      <th>preco</th>\n",
       "      <th>evento</th>\n",
       "      <th>qt</th>\n",
       "      <th>vl_total</th>\n",
       "      <th>qt_acum</th>\n",
       "      <th>multiplicador_split</th>\n",
       "      <th>preco_fix</th>\n",
       "      <th>vl_atualizado_fix</th>\n",
       "      <th>ultimo_dia_mes</th>\n",
       "    </tr>\n",
       "  </thead>\n",
       "  <tbody>\n",
       "    <tr>\n",
       "      <th>20</th>\n",
       "      <td>2020-08-31</td>\n",
       "      <td>B3SA3</td>\n",
       "      <td>19.60</td>\n",
       "      <td>0</td>\n",
       "      <td>0.0</td>\n",
       "      <td>0.0</td>\n",
       "      <td>100.0</td>\n",
       "      <td>3.0</td>\n",
       "      <td>58.80</td>\n",
       "      <td>5880.0</td>\n",
       "      <td>1</td>\n",
       "    </tr>\n",
       "    <tr>\n",
       "      <th>41</th>\n",
       "      <td>2020-09-30</td>\n",
       "      <td>B3SA3</td>\n",
       "      <td>18.34</td>\n",
       "      <td>0</td>\n",
       "      <td>0.0</td>\n",
       "      <td>0.0</td>\n",
       "      <td>100.0</td>\n",
       "      <td>3.0</td>\n",
       "      <td>55.02</td>\n",
       "      <td>5502.0</td>\n",
       "      <td>1</td>\n",
       "    </tr>\n",
       "    <tr>\n",
       "      <th>62</th>\n",
       "      <td>2020-10-30</td>\n",
       "      <td>B3SA3</td>\n",
       "      <td>17.02</td>\n",
       "      <td>0</td>\n",
       "      <td>0.0</td>\n",
       "      <td>0.0</td>\n",
       "      <td>100.0</td>\n",
       "      <td>3.0</td>\n",
       "      <td>51.06</td>\n",
       "      <td>5106.0</td>\n",
       "      <td>1</td>\n",
       "    </tr>\n",
       "    <tr>\n",
       "      <th>81</th>\n",
       "      <td>2020-11-30</td>\n",
       "      <td>B3SA3</td>\n",
       "      <td>18.71</td>\n",
       "      <td>0</td>\n",
       "      <td>0.0</td>\n",
       "      <td>0.0</td>\n",
       "      <td>100.0</td>\n",
       "      <td>3.0</td>\n",
       "      <td>56.13</td>\n",
       "      <td>5613.0</td>\n",
       "      <td>1</td>\n",
       "    </tr>\n",
       "    <tr>\n",
       "      <th>101</th>\n",
       "      <td>2020-12-30</td>\n",
       "      <td>B3SA3</td>\n",
       "      <td>20.66</td>\n",
       "      <td>0</td>\n",
       "      <td>0.0</td>\n",
       "      <td>0.0</td>\n",
       "      <td>100.0</td>\n",
       "      <td>3.0</td>\n",
       "      <td>61.98</td>\n",
       "      <td>6198.0</td>\n",
       "      <td>1</td>\n",
       "    </tr>\n",
       "  </tbody>\n",
       "</table>\n",
       "</div>"
      ],
      "text/plain": [
       "          data ticker  preco evento   qt  vl_total  qt_acum  \\\n",
       "20  2020-08-31  B3SA3  19.60      0  0.0       0.0    100.0   \n",
       "41  2020-09-30  B3SA3  18.34      0  0.0       0.0    100.0   \n",
       "62  2020-10-30  B3SA3  17.02      0  0.0       0.0    100.0   \n",
       "81  2020-11-30  B3SA3  18.71      0  0.0       0.0    100.0   \n",
       "101 2020-12-30  B3SA3  20.66      0  0.0       0.0    100.0   \n",
       "\n",
       "     multiplicador_split  preco_fix  vl_atualizado_fix  ultimo_dia_mes  \n",
       "20                   3.0      58.80             5880.0               1  \n",
       "41                   3.0      55.02             5502.0               1  \n",
       "62                   3.0      51.06             5106.0               1  \n",
       "81                   3.0      56.13             5613.0               1  \n",
       "101                  3.0      61.98             6198.0               1  "
      ]
     },
     "execution_count": 119,
     "metadata": {},
     "output_type": "execute_result"
    }
   ],
   "source": [
    "\n",
    "df_plot = df_bolsa_treatment.loc[df_bolsa_treatment['ultimo_dia_mes'] == 1]\n",
    "#pivot_table(df=df_plot, x='data', y='ticker', value='vl_atualizado_fix')\n",
    "df_plot.head()\n"
   ]
  },
  {
   "attachments": {},
   "cell_type": "markdown",
   "metadata": {},
   "source": [
    "### Parte 2: benchmark"
   ]
  },
  {
   "cell_type": "code",
   "execution_count": 120,
   "metadata": {},
   "outputs": [
    {
     "name": "stdout",
     "output_type": "stream",
     "text": [
      "[*********************100%***********************]  1 of 1 completed\n",
      "[*********************100%***********************]  1 of 1 completed\n"
     ]
    },
    {
     "data": {
      "text/html": [
       "<div>\n",
       "<style scoped>\n",
       "    .dataframe tbody tr th:only-of-type {\n",
       "        vertical-align: middle;\n",
       "    }\n",
       "\n",
       "    .dataframe tbody tr th {\n",
       "        vertical-align: top;\n",
       "    }\n",
       "\n",
       "    .dataframe thead th {\n",
       "        text-align: right;\n",
       "    }\n",
       "</style>\n",
       "<table border=\"1\" class=\"dataframe\">\n",
       "  <thead>\n",
       "    <tr style=\"text-align: right;\">\n",
       "      <th></th>\n",
       "      <th>data</th>\n",
       "      <th>cdi</th>\n",
       "      <th>ipca</th>\n",
       "      <th>ibov</th>\n",
       "      <th>sp500</th>\n",
       "    </tr>\n",
       "  </thead>\n",
       "  <tbody>\n",
       "    <tr>\n",
       "      <th>0</th>\n",
       "      <td>2019-11-05</td>\n",
       "      <td>0.018985</td>\n",
       "      <td>0.018909</td>\n",
       "      <td>-0.138120</td>\n",
       "      <td>-0.118570</td>\n",
       "    </tr>\n",
       "    <tr>\n",
       "      <th>1</th>\n",
       "      <td>2019-11-06</td>\n",
       "      <td>0.018985</td>\n",
       "      <td>0.018909</td>\n",
       "      <td>-0.106039</td>\n",
       "      <td>0.070250</td>\n",
       "    </tr>\n",
       "    <tr>\n",
       "      <th>2</th>\n",
       "      <td>2019-11-07</td>\n",
       "      <td>0.018985</td>\n",
       "      <td>0.018909</td>\n",
       "      <td>1.149202</td>\n",
       "      <td>0.273010</td>\n",
       "    </tr>\n",
       "    <tr>\n",
       "      <th>3</th>\n",
       "      <td>2019-11-08</td>\n",
       "      <td>0.018985</td>\n",
       "      <td>0.018909</td>\n",
       "      <td>-1.781331</td>\n",
       "      <td>0.256068</td>\n",
       "    </tr>\n",
       "    <tr>\n",
       "      <th>4</th>\n",
       "      <td>2019-11-11</td>\n",
       "      <td>0.018985</td>\n",
       "      <td>0.018909</td>\n",
       "      <td>0.544463</td>\n",
       "      <td>-0.196247</td>\n",
       "    </tr>\n",
       "  </tbody>\n",
       "</table>\n",
       "</div>"
      ],
      "text/plain": [
       "        data       cdi      ipca      ibov     sp500\n",
       "0 2019-11-05  0.018985  0.018909 -0.138120 -0.118570\n",
       "1 2019-11-06  0.018985  0.018909 -0.106039  0.070250\n",
       "2 2019-11-07  0.018985  0.018909  1.149202  0.273010\n",
       "3 2019-11-08  0.018985  0.018909 -1.781331  0.256068\n",
       "4 2019-11-11  0.018985  0.018909  0.544463 -0.196247"
      ]
     },
     "execution_count": 120,
     "metadata": {},
     "output_type": "execute_result"
    }
   ],
   "source": [
    "df_bolsa['data'].min()\n",
    "\n",
    "\n",
    "df_benchmarks = all_benchmarks(start_date=df_bolsa['data'].min(),\n",
    "                               end_date=df_bolsa['data'].max())\n",
    "\n",
    "df_benchmarks.head()                               "
   ]
  },
  {
   "cell_type": "code",
   "execution_count": 121,
   "metadata": {},
   "outputs": [
    {
     "data": {
      "text/html": [
       "<div>\n",
       "<style scoped>\n",
       "    .dataframe tbody tr th:only-of-type {\n",
       "        vertical-align: middle;\n",
       "    }\n",
       "\n",
       "    .dataframe tbody tr th {\n",
       "        vertical-align: top;\n",
       "    }\n",
       "\n",
       "    .dataframe thead th {\n",
       "        text-align: right;\n",
       "    }\n",
       "</style>\n",
       "<table border=\"1\" class=\"dataframe\">\n",
       "  <thead>\n",
       "    <tr style=\"text-align: right;\">\n",
       "      <th></th>\n",
       "      <th>data</th>\n",
       "      <th>ticker</th>\n",
       "      <th>preco</th>\n",
       "      <th>evento</th>\n",
       "      <th>qt</th>\n",
       "      <th>vl_total</th>\n",
       "      <th>qt_acum</th>\n",
       "      <th>multiplicador_split</th>\n",
       "      <th>preco_fix</th>\n",
       "      <th>vl_atualizado_fix</th>\n",
       "      <th>ultimo_dia_mes</th>\n",
       "    </tr>\n",
       "  </thead>\n",
       "  <tbody>\n",
       "    <tr>\n",
       "      <th>0</th>\n",
       "      <td>2020-08-03</td>\n",
       "      <td>B3SA3</td>\n",
       "      <td>21.30</td>\n",
       "      <td>compra_ou_venda</td>\n",
       "      <td>100.0</td>\n",
       "      <td>6474.0</td>\n",
       "      <td>100.0</td>\n",
       "      <td>3.0</td>\n",
       "      <td>63.90</td>\n",
       "      <td>6390.0</td>\n",
       "      <td>0</td>\n",
       "    </tr>\n",
       "    <tr>\n",
       "      <th>1</th>\n",
       "      <td>2020-08-04</td>\n",
       "      <td>B3SA3</td>\n",
       "      <td>21.07</td>\n",
       "      <td>0</td>\n",
       "      <td>0.0</td>\n",
       "      <td>0.0</td>\n",
       "      <td>100.0</td>\n",
       "      <td>3.0</td>\n",
       "      <td>63.21</td>\n",
       "      <td>6321.0</td>\n",
       "      <td>0</td>\n",
       "    </tr>\n",
       "    <tr>\n",
       "      <th>2</th>\n",
       "      <td>2020-08-05</td>\n",
       "      <td>B3SA3</td>\n",
       "      <td>21.17</td>\n",
       "      <td>0</td>\n",
       "      <td>0.0</td>\n",
       "      <td>0.0</td>\n",
       "      <td>100.0</td>\n",
       "      <td>3.0</td>\n",
       "      <td>63.51</td>\n",
       "      <td>6351.0</td>\n",
       "      <td>0</td>\n",
       "    </tr>\n",
       "    <tr>\n",
       "      <th>3</th>\n",
       "      <td>2020-08-06</td>\n",
       "      <td>B3SA3</td>\n",
       "      <td>21.35</td>\n",
       "      <td>0</td>\n",
       "      <td>0.0</td>\n",
       "      <td>0.0</td>\n",
       "      <td>100.0</td>\n",
       "      <td>3.0</td>\n",
       "      <td>64.05</td>\n",
       "      <td>6405.0</td>\n",
       "      <td>0</td>\n",
       "    </tr>\n",
       "    <tr>\n",
       "      <th>4</th>\n",
       "      <td>2020-08-07</td>\n",
       "      <td>B3SA3</td>\n",
       "      <td>20.85</td>\n",
       "      <td>0</td>\n",
       "      <td>0.0</td>\n",
       "      <td>0.0</td>\n",
       "      <td>100.0</td>\n",
       "      <td>3.0</td>\n",
       "      <td>62.55</td>\n",
       "      <td>6255.0</td>\n",
       "      <td>0</td>\n",
       "    </tr>\n",
       "  </tbody>\n",
       "</table>\n",
       "</div>"
      ],
      "text/plain": [
       "        data ticker  preco           evento     qt  vl_total  qt_acum  \\\n",
       "0 2020-08-03  B3SA3  21.30  compra_ou_venda  100.0    6474.0    100.0   \n",
       "1 2020-08-04  B3SA3  21.07                0    0.0       0.0    100.0   \n",
       "2 2020-08-05  B3SA3  21.17                0    0.0       0.0    100.0   \n",
       "3 2020-08-06  B3SA3  21.35                0    0.0       0.0    100.0   \n",
       "4 2020-08-07  B3SA3  20.85                0    0.0       0.0    100.0   \n",
       "\n",
       "   multiplicador_split  preco_fix  vl_atualizado_fix  ultimo_dia_mes  \n",
       "0                  3.0      63.90             6390.0               0  \n",
       "1                  3.0      63.21             6321.0               0  \n",
       "2                  3.0      63.51             6351.0               0  \n",
       "3                  3.0      64.05             6405.0               0  \n",
       "4                  3.0      62.55             6255.0               0  "
      ]
     },
     "execution_count": 121,
     "metadata": {},
     "output_type": "execute_result"
    }
   ],
   "source": [
    "df_bolsa_treatment.head()"
   ]
  },
  {
   "cell_type": "code",
   "execution_count": 122,
   "metadata": {},
   "outputs": [
    {
     "data": {
      "text/plain": [
       "(Timestamp('2020-08-03 00:00:00'), Timestamp('2019-11-05 00:00:00'))"
      ]
     },
     "execution_count": 122,
     "metadata": {},
     "output_type": "execute_result"
    }
   ],
   "source": [
    "# Apenas para referência\n",
    "df_bolsa_treatment.loc[0, 'data'], df_benchmarks.loc[0, 'data']"
   ]
  },
  {
   "cell_type": "code",
   "execution_count": null,
   "metadata": {},
   "outputs": [],
   "source": []
  },
  {
   "attachments": {},
   "cell_type": "markdown",
   "metadata": {},
   "source": [
    "### Parte 3: KPI"
   ]
  },
  {
   "cell_type": "markdown",
   "metadata": {},
   "source": [
    "-----------"
   ]
  },
  {
   "cell_type": "markdown",
   "metadata": {},
   "source": [
    "Print melhorado!\n",
    "\n",
    "```python\n",
    "with pd.option_context('display.max_rows', None, 'display.max_columns', None): \n",
    "    display(df)\n",
    "```"
   ]
  },
  {
   "cell_type": "code",
   "execution_count": 123,
   "metadata": {},
   "outputs": [
    {
     "name": "stdout",
     "output_type": "stream",
     "text": [
      "0 a\n",
      "1 b\n",
      "2 c\n"
     ]
    }
   ],
   "source": [
    "# Teste\n",
    "a = ['a', 'b', 'c']\n",
    "for index, value in enumerate(a):\n",
    "    print(index, value)"
   ]
  },
  {
   "cell_type": "code",
   "execution_count": 124,
   "metadata": {},
   "outputs": [
    {
     "name": "stdout",
     "output_type": "stream",
     "text": [
      "a 4\n",
      "b 5\n",
      "c 6\n"
     ]
    }
   ],
   "source": [
    "a = ['a', 'b', 'c']\n",
    "b = [4, 5, 6]    \n",
    "for value_a, value_b in zip(a, b):\n",
    "    print(value_a, value_b)"
   ]
  }
 ],
 "metadata": {
  "kernelspec": {
   "display_name": "Python 3 (ipykernel)",
   "language": "python",
   "name": "python3"
  },
  "language_info": {
   "codemirror_mode": {
    "name": "ipython",
    "version": 3
   },
   "file_extension": ".py",
   "mimetype": "text/x-python",
   "name": "python",
   "nbconvert_exporter": "python",
   "pygments_lexer": "ipython3",
   "version": "3.10.4"
  },
  "vscode": {
   "interpreter": {
    "hash": "7d7662bde5678ddf41fb482e2cda39dd85fc62406be2c88b1ebdc7b78e575873"
   }
  }
 },
 "nbformat": 4,
 "nbformat_minor": 4
}
